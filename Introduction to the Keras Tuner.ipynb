{
 "cells": [
  {
   "cell_type": "code",
   "execution_count": 1,
   "id": "e06e4168",
   "metadata": {},
   "outputs": [],
   "source": [
    "import tensorflow as tf\n",
    "from tensorflow import keras"
   ]
  },
  {
   "cell_type": "code",
   "execution_count": 3,
   "id": "21bd71d5",
   "metadata": {},
   "outputs": [
    {
     "name": "stdout",
     "output_type": "stream",
     "text": [
      "Using TensorFlow backend\n"
     ]
    },
    {
     "name": "stderr",
     "output_type": "stream",
     "text": [
      "<frozen importlib._bootstrap>:228: RuntimeWarning: scipy._lib.messagestream.MessageStream size changed, may indicate binary incompatibility. Expected 56 from C header, got 64 from PyObject\n"
     ]
    }
   ],
   "source": [
    "import keras_tuner as kt\n"
   ]
  },
  {
   "cell_type": "markdown",
   "id": "3b0a7620",
   "metadata": {},
   "source": [
    "# Download and prepare the dataset\n",
    "In this tutorial, you will use the Keras Tuner to find the best hyperparameters for a machine learning model that classifies images of clothing from the Fashion MNIST dataset."
   ]
  },
  {
   "cell_type": "code",
   "execution_count": 4,
   "id": "fface5fc",
   "metadata": {},
   "outputs": [],
   "source": [
    "#load data\n",
    "(img_train, label_train), (img_test, label_test) = keras.datasets.fashion_mnist.load_data()"
   ]
  },
  {
   "cell_type": "code",
   "execution_count": 5,
   "id": "5d0fde2e",
   "metadata": {},
   "outputs": [],
   "source": [
    "#normalise pixel values between 0 and 1\n",
    "\n",
    "img_train = img_train.astype('float32') / 255.0\n",
    "img_test = img_test.astype('float32') / 255.0"
   ]
  },
  {
   "cell_type": "markdown",
   "id": "f4e31c69",
   "metadata": {},
   "source": [
    "# Define the model\n",
    "When you build a model for hypertuning, you also define the hyperparameter search space in addition to the model architecture. The model you set up for hypertuning is called a hypermodel.\n",
    "\n",
    "You can define a hypermodel through two approaches:\n",
    "\n",
    "By using a model builder function\n",
    "By subclassing the HyperModel class of the Keras Tuner API"
   ]
  },
  {
   "cell_type": "code",
   "execution_count": 6,
   "id": "29abdd92",
   "metadata": {},
   "outputs": [],
   "source": [
    "def model_builder(hp):\n",
    "  model = keras.Sequential()\n",
    "  model.add(keras.layers.Flatten(input_shape=(28, 28)))\n",
    "\n",
    "  # Tune the number of units in the first Dense layer\n",
    "  # Choose an optimal value between 32-512\n",
    "  hp_units = hp.Int('units', min_value=32, max_value=512, step=32)\n",
    "  model.add(keras.layers.Dense(units=hp_units, activation='relu'))\n",
    "  model.add(keras.layers.Dense(10))\n",
    "\n",
    "  # Tune the learning rate for the optimizer\n",
    "  # Choose an optimal value from 0.01, 0.001, or 0.0001\n",
    "  hp_learning_rate = hp.Choice('learning_rate', values=[1e-2, 1e-3, 1e-4])\n",
    "\n",
    "  model.compile(optimizer=keras.optimizers.Adam(learning_rate=hp_learning_rate),\n",
    "                loss=keras.losses.SparseCategoricalCrossentropy(from_logits=True),\n",
    "                metrics=['accuracy'])\n",
    "\n",
    "  return model"
   ]
  },
  {
   "cell_type": "code",
   "execution_count": 7,
   "id": "a3a556d3",
   "metadata": {},
   "outputs": [],
   "source": [
    "tuner = kt.Hyperband(model_builder,\n",
    "                     objective='val_accuracy',\n",
    "                     max_epochs=10,\n",
    "                     factor=3,\n",
    "                     directory='my_dir',\n",
    "                     project_name='intro_to_kt')"
   ]
  },
  {
   "cell_type": "code",
   "execution_count": 8,
   "id": "7bb07280",
   "metadata": {},
   "outputs": [],
   "source": [
    "stop_early = tf.keras.callbacks.EarlyStopping(monitor='val_loss', patience=5)"
   ]
  },
  {
   "cell_type": "code",
   "execution_count": 9,
   "id": "aa304290",
   "metadata": {},
   "outputs": [
    {
     "name": "stdout",
     "output_type": "stream",
     "text": [
      "Trial 30 Complete [00h 00m 34s]\n",
      "val_accuracy: 0.8654999732971191\n",
      "\n",
      "Best val_accuracy So Far: 0.8951666951179504\n",
      "Total elapsed time: 00h 06m 25s\n",
      "\n",
      "The hyperparameter search is complete. The optimal number of units in the first densely-connected\n",
      "layer is 512 and the optimal learning rate for the optimizer\n",
      "is 0.001.\n",
      "\n"
     ]
    }
   ],
   "source": [
    "tuner.search(img_train, label_train, epochs=50, validation_split=0.2, callbacks=[stop_early])\n",
    "\n",
    "# Get the optimal hyperparameters\n",
    "best_hps=tuner.get_best_hyperparameters(num_trials=1)[0]\n",
    "\n",
    "print(f\"\"\"\n",
    "The hyperparameter search is complete. The optimal number of units in the first densely-connected\n",
    "layer is {best_hps.get('units')} and the optimal learning rate for the optimizer\n",
    "is {best_hps.get('learning_rate')}.\n",
    "\"\"\")"
   ]
  },
  {
   "cell_type": "markdown",
   "id": "c4494ad2",
   "metadata": {},
   "source": [
    "# Train the model\n",
    "Find the optimal number of epochs to train the model with the hyperparameters obtained from the search."
   ]
  },
  {
   "cell_type": "code",
   "execution_count": 10,
   "id": "26eaf729",
   "metadata": {},
   "outputs": [
    {
     "name": "stdout",
     "output_type": "stream",
     "text": [
      "Epoch 1/50\n",
      "1500/1500 [==============================] - 4s 2ms/step - loss: 0.4956 - accuracy: 0.8238 - val_loss: 0.4433 - val_accuracy: 0.8393\n",
      "Epoch 2/50\n",
      "1500/1500 [==============================] - 3s 2ms/step - loss: 0.3663 - accuracy: 0.8676 - val_loss: 0.3711 - val_accuracy: 0.8655\n",
      "Epoch 3/50\n",
      "1500/1500 [==============================] - 4s 2ms/step - loss: 0.3295 - accuracy: 0.8797 - val_loss: 0.3321 - val_accuracy: 0.8826\n",
      "Epoch 4/50\n",
      "1500/1500 [==============================] - 3s 2ms/step - loss: 0.3062 - accuracy: 0.8857 - val_loss: 0.3474 - val_accuracy: 0.8765\n",
      "Epoch 5/50\n",
      "1500/1500 [==============================] - 3s 2ms/step - loss: 0.2850 - accuracy: 0.8950 - val_loss: 0.3278 - val_accuracy: 0.8829\n",
      "Epoch 6/50\n",
      "1500/1500 [==============================] - 3s 2ms/step - loss: 0.2695 - accuracy: 0.9000 - val_loss: 0.3453 - val_accuracy: 0.8763\n",
      "Epoch 7/50\n",
      "1500/1500 [==============================] - 3s 2ms/step - loss: 0.2550 - accuracy: 0.9065 - val_loss: 0.3193 - val_accuracy: 0.8875\n",
      "Epoch 8/50\n",
      "1500/1500 [==============================] - 3s 2ms/step - loss: 0.2445 - accuracy: 0.9080 - val_loss: 0.3177 - val_accuracy: 0.8878\n",
      "Epoch 9/50\n",
      "1500/1500 [==============================] - 3s 2ms/step - loss: 0.2366 - accuracy: 0.9125 - val_loss: 0.3063 - val_accuracy: 0.8922\n",
      "Epoch 10/50\n",
      "1500/1500 [==============================] - 3s 2ms/step - loss: 0.2222 - accuracy: 0.9172 - val_loss: 0.3125 - val_accuracy: 0.8935\n",
      "Epoch 11/50\n",
      "1500/1500 [==============================] - 3s 2ms/step - loss: 0.2148 - accuracy: 0.9192 - val_loss: 0.3474 - val_accuracy: 0.8793\n",
      "Epoch 12/50\n",
      "1500/1500 [==============================] - 4s 2ms/step - loss: 0.2063 - accuracy: 0.9238 - val_loss: 0.3251 - val_accuracy: 0.8932\n",
      "Epoch 13/50\n",
      "1500/1500 [==============================] - 4s 2ms/step - loss: 0.1997 - accuracy: 0.9251 - val_loss: 0.3340 - val_accuracy: 0.8873\n",
      "Epoch 14/50\n",
      "1500/1500 [==============================] - 3s 2ms/step - loss: 0.1910 - accuracy: 0.9287 - val_loss: 0.3166 - val_accuracy: 0.8920\n",
      "Epoch 15/50\n",
      "1500/1500 [==============================] - 3s 2ms/step - loss: 0.1850 - accuracy: 0.9310 - val_loss: 0.3465 - val_accuracy: 0.8823\n",
      "Epoch 16/50\n",
      "1500/1500 [==============================] - 3s 2ms/step - loss: 0.1789 - accuracy: 0.9328 - val_loss: 0.3180 - val_accuracy: 0.8961\n",
      "Epoch 17/50\n",
      "1500/1500 [==============================] - 4s 2ms/step - loss: 0.1732 - accuracy: 0.9353 - val_loss: 0.3477 - val_accuracy: 0.8878\n",
      "Epoch 18/50\n",
      "1500/1500 [==============================] - 3s 2ms/step - loss: 0.1657 - accuracy: 0.9372 - val_loss: 0.3372 - val_accuracy: 0.8947\n",
      "Epoch 19/50\n",
      "1500/1500 [==============================] - 3s 2ms/step - loss: 0.1597 - accuracy: 0.9403 - val_loss: 0.3319 - val_accuracy: 0.8963\n",
      "Epoch 20/50\n",
      "1500/1500 [==============================] - 4s 2ms/step - loss: 0.1583 - accuracy: 0.9408 - val_loss: 0.3352 - val_accuracy: 0.8958\n",
      "Epoch 21/50\n",
      "1500/1500 [==============================] - 3s 2ms/step - loss: 0.1507 - accuracy: 0.9434 - val_loss: 0.3581 - val_accuracy: 0.8908\n",
      "Epoch 22/50\n",
      "1500/1500 [==============================] - 4s 2ms/step - loss: 0.1469 - accuracy: 0.9447 - val_loss: 0.3508 - val_accuracy: 0.8883\n",
      "Epoch 23/50\n",
      "1500/1500 [==============================] - 3s 2ms/step - loss: 0.1418 - accuracy: 0.9481 - val_loss: 0.3844 - val_accuracy: 0.8921\n",
      "Epoch 24/50\n",
      "1500/1500 [==============================] - 3s 2ms/step - loss: 0.1403 - accuracy: 0.9476 - val_loss: 0.3741 - val_accuracy: 0.8942\n",
      "Epoch 25/50\n",
      "1500/1500 [==============================] - 3s 2ms/step - loss: 0.1351 - accuracy: 0.9486 - val_loss: 0.4090 - val_accuracy: 0.8866\n",
      "Epoch 26/50\n",
      "1500/1500 [==============================] - 4s 2ms/step - loss: 0.1320 - accuracy: 0.9493 - val_loss: 0.4039 - val_accuracy: 0.8880\n",
      "Epoch 27/50\n",
      "1500/1500 [==============================] - 3s 2ms/step - loss: 0.1271 - accuracy: 0.9510 - val_loss: 0.4155 - val_accuracy: 0.8848\n",
      "Epoch 28/50\n",
      "1500/1500 [==============================] - 3s 2ms/step - loss: 0.1204 - accuracy: 0.9546 - val_loss: 0.3807 - val_accuracy: 0.8966\n",
      "Epoch 29/50\n",
      "1500/1500 [==============================] - 4s 2ms/step - loss: 0.1200 - accuracy: 0.9562 - val_loss: 0.3994 - val_accuracy: 0.8962\n",
      "Epoch 30/50\n",
      "1500/1500 [==============================] - 4s 2ms/step - loss: 0.1178 - accuracy: 0.9561 - val_loss: 0.4057 - val_accuracy: 0.8946\n",
      "Epoch 31/50\n",
      "1500/1500 [==============================] - 4s 2ms/step - loss: 0.1131 - accuracy: 0.9581 - val_loss: 0.4239 - val_accuracy: 0.8933\n",
      "Epoch 32/50\n",
      "1500/1500 [==============================] - 4s 2ms/step - loss: 0.1109 - accuracy: 0.9592 - val_loss: 0.4122 - val_accuracy: 0.8959\n",
      "Epoch 33/50\n",
      "1500/1500 [==============================] - 3s 2ms/step - loss: 0.1086 - accuracy: 0.9593 - val_loss: 0.4145 - val_accuracy: 0.8991\n",
      "Epoch 34/50\n",
      "1500/1500 [==============================] - 3s 2ms/step - loss: 0.1055 - accuracy: 0.9601 - val_loss: 0.4316 - val_accuracy: 0.8939\n",
      "Epoch 35/50\n",
      "1500/1500 [==============================] - 4s 2ms/step - loss: 0.1053 - accuracy: 0.9600 - val_loss: 0.4566 - val_accuracy: 0.8938\n",
      "Epoch 36/50\n",
      "1500/1500 [==============================] - 4s 2ms/step - loss: 0.1008 - accuracy: 0.9627 - val_loss: 0.4596 - val_accuracy: 0.8902\n",
      "Epoch 37/50\n",
      "1500/1500 [==============================] - 3s 2ms/step - loss: 0.0987 - accuracy: 0.9628 - val_loss: 0.4928 - val_accuracy: 0.8876\n",
      "Epoch 38/50\n",
      "1500/1500 [==============================] - 3s 2ms/step - loss: 0.0972 - accuracy: 0.9643 - val_loss: 0.4477 - val_accuracy: 0.8971\n",
      "Epoch 39/50\n",
      "1500/1500 [==============================] - 3s 2ms/step - loss: 0.0948 - accuracy: 0.9647 - val_loss: 0.4765 - val_accuracy: 0.8930\n",
      "Epoch 40/50\n",
      "1500/1500 [==============================] - 4s 2ms/step - loss: 0.0934 - accuracy: 0.9648 - val_loss: 0.5063 - val_accuracy: 0.8865\n",
      "Epoch 41/50\n",
      "1500/1500 [==============================] - 3s 2ms/step - loss: 0.0900 - accuracy: 0.9665 - val_loss: 0.4791 - val_accuracy: 0.8928\n",
      "Epoch 42/50\n",
      "1500/1500 [==============================] - 3s 2ms/step - loss: 0.0891 - accuracy: 0.9670 - val_loss: 0.5289 - val_accuracy: 0.8888\n",
      "Epoch 43/50\n",
      "1500/1500 [==============================] - 3s 2ms/step - loss: 0.0851 - accuracy: 0.9674 - val_loss: 0.5015 - val_accuracy: 0.8917\n",
      "Epoch 44/50\n",
      "1500/1500 [==============================] - 3s 2ms/step - loss: 0.0844 - accuracy: 0.9679 - val_loss: 0.5258 - val_accuracy: 0.8900\n",
      "Epoch 45/50\n",
      "1500/1500 [==============================] - 4s 2ms/step - loss: 0.0870 - accuracy: 0.9676 - val_loss: 0.4912 - val_accuracy: 0.8962\n",
      "Epoch 46/50\n",
      "1500/1500 [==============================] - 3s 2ms/step - loss: 0.0794 - accuracy: 0.9697 - val_loss: 0.5184 - val_accuracy: 0.8975\n",
      "Epoch 47/50\n",
      "1500/1500 [==============================] - 3s 2ms/step - loss: 0.0799 - accuracy: 0.9705 - val_loss: 0.5173 - val_accuracy: 0.8952\n",
      "Epoch 48/50\n",
      "1500/1500 [==============================] - 3s 2ms/step - loss: 0.0765 - accuracy: 0.9708 - val_loss: 0.5213 - val_accuracy: 0.8942\n",
      "Epoch 49/50\n",
      "1500/1500 [==============================] - 3s 2ms/step - loss: 0.0769 - accuracy: 0.9713 - val_loss: 0.5550 - val_accuracy: 0.8892\n",
      "Epoch 50/50\n",
      "1500/1500 [==============================] - 3s 2ms/step - loss: 0.0752 - accuracy: 0.9710 - val_loss: 0.5481 - val_accuracy: 0.8932\n",
      "Best epoch: 33\n"
     ]
    }
   ],
   "source": [
    "# Build the model with the optimal hyperparameters and train it on the data for 50 epochs\n",
    "model = tuner.hypermodel.build(best_hps)\n",
    "history = model.fit(img_train, label_train, epochs=50, validation_split=0.2)\n",
    "\n",
    "val_acc_per_epoch = history.history['val_accuracy']\n",
    "best_epoch = val_acc_per_epoch.index(max(val_acc_per_epoch)) + 1\n",
    "print('Best epoch: %d' % (best_epoch,))"
   ]
  },
  {
   "cell_type": "code",
   "execution_count": 11,
   "id": "93ad5ba1",
   "metadata": {},
   "outputs": [
    {
     "name": "stdout",
     "output_type": "stream",
     "text": [
      "Epoch 1/33\n",
      "1500/1500 [==============================] - 4s 2ms/step - loss: 0.4920 - accuracy: 0.8260 - val_loss: 0.3861 - val_accuracy: 0.8662\n",
      "Epoch 2/33\n",
      "1500/1500 [==============================] - 3s 2ms/step - loss: 0.3695 - accuracy: 0.8649 - val_loss: 0.3608 - val_accuracy: 0.8687\n",
      "Epoch 3/33\n",
      "1500/1500 [==============================] - 3s 2ms/step - loss: 0.3301 - accuracy: 0.8774 - val_loss: 0.3456 - val_accuracy: 0.8764\n",
      "Epoch 4/33\n",
      "1500/1500 [==============================] - 3s 2ms/step - loss: 0.3051 - accuracy: 0.8876 - val_loss: 0.3349 - val_accuracy: 0.8783\n",
      "Epoch 5/33\n",
      "1500/1500 [==============================] - 3s 2ms/step - loss: 0.2867 - accuracy: 0.8928 - val_loss: 0.3267 - val_accuracy: 0.8824\n",
      "Epoch 6/33\n",
      "1500/1500 [==============================] - 3s 2ms/step - loss: 0.2711 - accuracy: 0.8993 - val_loss: 0.3194 - val_accuracy: 0.8852\n",
      "Epoch 7/33\n",
      "1500/1500 [==============================] - 3s 2ms/step - loss: 0.2569 - accuracy: 0.9031 - val_loss: 0.3381 - val_accuracy: 0.8814\n",
      "Epoch 8/33\n",
      "1500/1500 [==============================] - 3s 2ms/step - loss: 0.2434 - accuracy: 0.9091 - val_loss: 0.3398 - val_accuracy: 0.8818\n",
      "Epoch 9/33\n",
      "1500/1500 [==============================] - 3s 2ms/step - loss: 0.2347 - accuracy: 0.9117 - val_loss: 0.3121 - val_accuracy: 0.8878\n",
      "Epoch 10/33\n",
      "1500/1500 [==============================] - 3s 2ms/step - loss: 0.2235 - accuracy: 0.9155 - val_loss: 0.3150 - val_accuracy: 0.8883\n",
      "Epoch 11/33\n",
      "1500/1500 [==============================] - 3s 2ms/step - loss: 0.2152 - accuracy: 0.9192 - val_loss: 0.3308 - val_accuracy: 0.8911\n",
      "Epoch 12/33\n",
      "1500/1500 [==============================] - 3s 2ms/step - loss: 0.2105 - accuracy: 0.9210 - val_loss: 0.3053 - val_accuracy: 0.8937\n",
      "Epoch 13/33\n",
      "1500/1500 [==============================] - 3s 2ms/step - loss: 0.1997 - accuracy: 0.9253 - val_loss: 0.3310 - val_accuracy: 0.8905\n",
      "Epoch 14/33\n",
      "1500/1500 [==============================] - 3s 2ms/step - loss: 0.1921 - accuracy: 0.9285 - val_loss: 0.3667 - val_accuracy: 0.8820\n",
      "Epoch 15/33\n",
      "1500/1500 [==============================] - 3s 2ms/step - loss: 0.1864 - accuracy: 0.9300 - val_loss: 0.3439 - val_accuracy: 0.8878\n",
      "Epoch 16/33\n",
      "1500/1500 [==============================] - 3s 2ms/step - loss: 0.1786 - accuracy: 0.9323 - val_loss: 0.3289 - val_accuracy: 0.8942\n",
      "Epoch 17/33\n",
      "1500/1500 [==============================] - 3s 2ms/step - loss: 0.1715 - accuracy: 0.9356 - val_loss: 0.3275 - val_accuracy: 0.8962\n",
      "Epoch 18/33\n",
      "1500/1500 [==============================] - 3s 2ms/step - loss: 0.1663 - accuracy: 0.9372 - val_loss: 0.3392 - val_accuracy: 0.8962\n",
      "Epoch 19/33\n",
      "1500/1500 [==============================] - 3s 2ms/step - loss: 0.1622 - accuracy: 0.9388 - val_loss: 0.3452 - val_accuracy: 0.8947\n",
      "Epoch 20/33\n",
      "1500/1500 [==============================] - 3s 2ms/step - loss: 0.1544 - accuracy: 0.9417 - val_loss: 0.3585 - val_accuracy: 0.8934\n",
      "Epoch 21/33\n",
      "1500/1500 [==============================] - 3s 2ms/step - loss: 0.1525 - accuracy: 0.9423 - val_loss: 0.3619 - val_accuracy: 0.8888\n",
      "Epoch 22/33\n",
      "1500/1500 [==============================] - 3s 2ms/step - loss: 0.1470 - accuracy: 0.9444 - val_loss: 0.3400 - val_accuracy: 0.8938\n",
      "Epoch 23/33\n",
      "1500/1500 [==============================] - 3s 2ms/step - loss: 0.1416 - accuracy: 0.9476 - val_loss: 0.3535 - val_accuracy: 0.8949\n",
      "Epoch 24/33\n",
      "1500/1500 [==============================] - 3s 2ms/step - loss: 0.1374 - accuracy: 0.9479 - val_loss: 0.3578 - val_accuracy: 0.8947\n",
      "Epoch 25/33\n",
      "1500/1500 [==============================] - 3s 2ms/step - loss: 0.1322 - accuracy: 0.9511 - val_loss: 0.3866 - val_accuracy: 0.8940\n",
      "Epoch 26/33\n",
      "1500/1500 [==============================] - 3s 2ms/step - loss: 0.1309 - accuracy: 0.9505 - val_loss: 0.3765 - val_accuracy: 0.8947\n",
      "Epoch 27/33\n",
      "1500/1500 [==============================] - 3s 2ms/step - loss: 0.1254 - accuracy: 0.9534 - val_loss: 0.3940 - val_accuracy: 0.8932\n",
      "Epoch 28/33\n",
      "1500/1500 [==============================] - 3s 2ms/step - loss: 0.1245 - accuracy: 0.9536 - val_loss: 0.3767 - val_accuracy: 0.8942\n",
      "Epoch 29/33\n",
      "1500/1500 [==============================] - 3s 2ms/step - loss: 0.1186 - accuracy: 0.9556 - val_loss: 0.3850 - val_accuracy: 0.8953\n",
      "Epoch 30/33\n",
      "1500/1500 [==============================] - 3s 2ms/step - loss: 0.1148 - accuracy: 0.9570 - val_loss: 0.3865 - val_accuracy: 0.8947\n",
      "Epoch 31/33\n",
      "1500/1500 [==============================] - 3s 2ms/step - loss: 0.1123 - accuracy: 0.9572 - val_loss: 0.4046 - val_accuracy: 0.8951\n",
      "Epoch 32/33\n",
      "1500/1500 [==============================] - 3s 2ms/step - loss: 0.1103 - accuracy: 0.9590 - val_loss: 0.4042 - val_accuracy: 0.8942\n",
      "Epoch 33/33\n",
      "1500/1500 [==============================] - 3s 2ms/step - loss: 0.1073 - accuracy: 0.9595 - val_loss: 0.4193 - val_accuracy: 0.8893\n"
     ]
    },
    {
     "data": {
      "text/plain": [
       "<keras.callbacks.History at 0x18cbde44970>"
      ]
     },
     "execution_count": 11,
     "metadata": {},
     "output_type": "execute_result"
    }
   ],
   "source": [
    "hypermodel = tuner.hypermodel.build(best_hps)\n",
    "\n",
    "# Retrain the model\n",
    "hypermodel.fit(img_train, label_train, epochs=best_epoch, validation_split=0.2)"
   ]
  },
  {
   "cell_type": "code",
   "execution_count": 12,
   "id": "cd2e737e",
   "metadata": {},
   "outputs": [
    {
     "name": "stdout",
     "output_type": "stream",
     "text": [
      "313/313 [==============================] - 0s 912us/step - loss: 0.4675 - accuracy: 0.8839\n",
      "[test loss, test accuracy]: [0.467483788728714, 0.883899986743927]\n"
     ]
    }
   ],
   "source": [
    "eval_result = hypermodel.evaluate(img_test, label_test)\n",
    "print(\"[test loss, test accuracy]:\", eval_result)"
   ]
  },
  {
   "cell_type": "code",
   "execution_count": null,
   "id": "4991d798",
   "metadata": {},
   "outputs": [],
   "source": []
  },
  {
   "cell_type": "code",
   "execution_count": null,
   "id": "f64c15bd",
   "metadata": {},
   "outputs": [],
   "source": []
  },
  {
   "cell_type": "code",
   "execution_count": null,
   "id": "91a86367",
   "metadata": {},
   "outputs": [],
   "source": []
  },
  {
   "cell_type": "code",
   "execution_count": null,
   "id": "2a498ee3",
   "metadata": {},
   "outputs": [],
   "source": []
  }
 ],
 "metadata": {
  "kernelspec": {
   "display_name": "Python 3 (ipykernel)",
   "language": "python",
   "name": "python3"
  },
  "language_info": {
   "codemirror_mode": {
    "name": "ipython",
    "version": 3
   },
   "file_extension": ".py",
   "mimetype": "text/x-python",
   "name": "python",
   "nbconvert_exporter": "python",
   "pygments_lexer": "ipython3",
   "version": "3.9.12"
  }
 },
 "nbformat": 4,
 "nbformat_minor": 5
}
