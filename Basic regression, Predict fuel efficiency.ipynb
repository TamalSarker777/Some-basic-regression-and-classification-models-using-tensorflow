{
 "cells": [
  {
   "cell_type": "code",
   "execution_count": 1,
   "id": "e1467a97",
   "metadata": {},
   "outputs": [
    {
     "name": "stdout",
     "output_type": "stream",
     "text": [
      "Note: you may need to restart the kernel to use updated packages.\n"
     ]
    },
    {
     "name": "stderr",
     "output_type": "stream",
     "text": [
      "\n",
      "[notice] A new release of pip is available: 23.1.2 -> 23.2.1\n",
      "[notice] To update, run: python.exe -m pip install --upgrade pip\n"
     ]
    }
   ],
   "source": [
    "pip install -q seaborn"
   ]
  },
  {
   "cell_type": "code",
   "execution_count": 2,
   "id": "5afe68ba",
   "metadata": {},
   "outputs": [
    {
     "name": "stderr",
     "output_type": "stream",
     "text": [
      "<frozen importlib._bootstrap>:228: RuntimeWarning: scipy._lib.messagestream.MessageStream size changed, may indicate binary incompatibility. Expected 56 from C header, got 64 from PyObject\n"
     ]
    }
   ],
   "source": [
    "import matplotlib.pyplot as plt\n",
    "import numpy as np\n",
    "import pandas as pd\n",
    "import seaborn as sns"
   ]
  },
  {
   "cell_type": "code",
   "execution_count": 3,
   "id": "57952d0c",
   "metadata": {},
   "outputs": [],
   "source": [
    "# Make NumPy printouts easier to read.\n",
    "np.set_printoptions(precision=3, suppress=True)"
   ]
  },
  {
   "cell_type": "code",
   "execution_count": 4,
   "id": "17fcfc54",
   "metadata": {},
   "outputs": [
    {
     "name": "stdout",
     "output_type": "stream",
     "text": [
      "2.10.1\n"
     ]
    }
   ],
   "source": [
    "import tensorflow as tf\n",
    "from tensorflow import keras\n",
    "from tensorflow.keras import layers\n",
    "\n",
    "print(tf.__version__)"
   ]
  },
  {
   "cell_type": "code",
   "execution_count": 5,
   "id": "8af81d06",
   "metadata": {},
   "outputs": [],
   "source": [
    "url = 'http://archive.ics.uci.edu/ml/machine-learning-databases/auto-mpg/auto-mpg.data'\n",
    "\n",
    "column_names = ['MPG', 'Cylinders', 'Displacement', 'Horsepower', 'Weight',\n",
    "                'Acceleration', 'Model Year', 'Origin']\n",
    "\n",
    "raw_dataset = pd.read_csv(url, names=column_names, sep = ' ', comment='\\t',\n",
    "                         skipinitialspace=True, na_values='?')"
   ]
  },
  {
   "cell_type": "code",
   "execution_count": 6,
   "id": "3771fa7c",
   "metadata": {},
   "outputs": [
    {
     "data": {
      "text/html": [
       "<div>\n",
       "<style scoped>\n",
       "    .dataframe tbody tr th:only-of-type {\n",
       "        vertical-align: middle;\n",
       "    }\n",
       "\n",
       "    .dataframe tbody tr th {\n",
       "        vertical-align: top;\n",
       "    }\n",
       "\n",
       "    .dataframe thead th {\n",
       "        text-align: right;\n",
       "    }\n",
       "</style>\n",
       "<table border=\"1\" class=\"dataframe\">\n",
       "  <thead>\n",
       "    <tr style=\"text-align: right;\">\n",
       "      <th></th>\n",
       "      <th>MPG</th>\n",
       "      <th>Cylinders</th>\n",
       "      <th>Displacement</th>\n",
       "      <th>Horsepower</th>\n",
       "      <th>Weight</th>\n",
       "      <th>Acceleration</th>\n",
       "      <th>Model Year</th>\n",
       "      <th>Origin</th>\n",
       "    </tr>\n",
       "  </thead>\n",
       "  <tbody>\n",
       "    <tr>\n",
       "      <th>393</th>\n",
       "      <td>27.0</td>\n",
       "      <td>4</td>\n",
       "      <td>140.0</td>\n",
       "      <td>86.0</td>\n",
       "      <td>2790.0</td>\n",
       "      <td>15.6</td>\n",
       "      <td>82</td>\n",
       "      <td>1</td>\n",
       "    </tr>\n",
       "    <tr>\n",
       "      <th>394</th>\n",
       "      <td>44.0</td>\n",
       "      <td>4</td>\n",
       "      <td>97.0</td>\n",
       "      <td>52.0</td>\n",
       "      <td>2130.0</td>\n",
       "      <td>24.6</td>\n",
       "      <td>82</td>\n",
       "      <td>2</td>\n",
       "    </tr>\n",
       "    <tr>\n",
       "      <th>395</th>\n",
       "      <td>32.0</td>\n",
       "      <td>4</td>\n",
       "      <td>135.0</td>\n",
       "      <td>84.0</td>\n",
       "      <td>2295.0</td>\n",
       "      <td>11.6</td>\n",
       "      <td>82</td>\n",
       "      <td>1</td>\n",
       "    </tr>\n",
       "    <tr>\n",
       "      <th>396</th>\n",
       "      <td>28.0</td>\n",
       "      <td>4</td>\n",
       "      <td>120.0</td>\n",
       "      <td>79.0</td>\n",
       "      <td>2625.0</td>\n",
       "      <td>18.6</td>\n",
       "      <td>82</td>\n",
       "      <td>1</td>\n",
       "    </tr>\n",
       "    <tr>\n",
       "      <th>397</th>\n",
       "      <td>31.0</td>\n",
       "      <td>4</td>\n",
       "      <td>119.0</td>\n",
       "      <td>82.0</td>\n",
       "      <td>2720.0</td>\n",
       "      <td>19.4</td>\n",
       "      <td>82</td>\n",
       "      <td>1</td>\n",
       "    </tr>\n",
       "  </tbody>\n",
       "</table>\n",
       "</div>"
      ],
      "text/plain": [
       "      MPG  Cylinders  Displacement  Horsepower  Weight  Acceleration  \\\n",
       "393  27.0          4         140.0        86.0  2790.0          15.6   \n",
       "394  44.0          4          97.0        52.0  2130.0          24.6   \n",
       "395  32.0          4         135.0        84.0  2295.0          11.6   \n",
       "396  28.0          4         120.0        79.0  2625.0          18.6   \n",
       "397  31.0          4         119.0        82.0  2720.0          19.4   \n",
       "\n",
       "     Model Year  Origin  \n",
       "393          82       1  \n",
       "394          82       2  \n",
       "395          82       1  \n",
       "396          82       1  \n",
       "397          82       1  "
      ]
     },
     "execution_count": 6,
     "metadata": {},
     "output_type": "execute_result"
    }
   ],
   "source": [
    "dataset = raw_dataset.copy()\n",
    "dataset.tail()"
   ]
  },
  {
   "cell_type": "code",
   "execution_count": 7,
   "id": "6ed06cd5",
   "metadata": {},
   "outputs": [
    {
     "data": {
      "text/plain": [
       "MPG             0\n",
       "Cylinders       0\n",
       "Displacement    0\n",
       "Horsepower      6\n",
       "Weight          0\n",
       "Acceleration    0\n",
       "Model Year      0\n",
       "Origin          0\n",
       "dtype: int64"
      ]
     },
     "execution_count": 7,
     "metadata": {},
     "output_type": "execute_result"
    }
   ],
   "source": [
    "#Clean the data, The dataset contains a few unknown values\n",
    "# here 0 means no missing value\n",
    "dataset.isna().sum()"
   ]
  },
  {
   "cell_type": "code",
   "execution_count": 8,
   "id": "961bf567",
   "metadata": {},
   "outputs": [],
   "source": [
    "#Lets' drop those data\n",
    "dataset= dataset.dropna()"
   ]
  },
  {
   "cell_type": "code",
   "execution_count": 9,
   "id": "773c7f3f",
   "metadata": {},
   "outputs": [],
   "source": [
    "dataset['Origin']= dataset['Origin'].map({1: 'USA', 2: 'Europh', 3: 'Japan'})"
   ]
  },
  {
   "cell_type": "code",
   "execution_count": 10,
   "id": "966284ab",
   "metadata": {},
   "outputs": [
    {
     "data": {
      "text/html": [
       "<div>\n",
       "<style scoped>\n",
       "    .dataframe tbody tr th:only-of-type {\n",
       "        vertical-align: middle;\n",
       "    }\n",
       "\n",
       "    .dataframe tbody tr th {\n",
       "        vertical-align: top;\n",
       "    }\n",
       "\n",
       "    .dataframe thead th {\n",
       "        text-align: right;\n",
       "    }\n",
       "</style>\n",
       "<table border=\"1\" class=\"dataframe\">\n",
       "  <thead>\n",
       "    <tr style=\"text-align: right;\">\n",
       "      <th></th>\n",
       "      <th>MPG</th>\n",
       "      <th>Cylinders</th>\n",
       "      <th>Displacement</th>\n",
       "      <th>Horsepower</th>\n",
       "      <th>Weight</th>\n",
       "      <th>Acceleration</th>\n",
       "      <th>Model Year</th>\n",
       "      <th>Origin</th>\n",
       "    </tr>\n",
       "  </thead>\n",
       "  <tbody>\n",
       "    <tr>\n",
       "      <th>393</th>\n",
       "      <td>27.0</td>\n",
       "      <td>4</td>\n",
       "      <td>140.0</td>\n",
       "      <td>86.0</td>\n",
       "      <td>2790.0</td>\n",
       "      <td>15.6</td>\n",
       "      <td>82</td>\n",
       "      <td>USA</td>\n",
       "    </tr>\n",
       "    <tr>\n",
       "      <th>394</th>\n",
       "      <td>44.0</td>\n",
       "      <td>4</td>\n",
       "      <td>97.0</td>\n",
       "      <td>52.0</td>\n",
       "      <td>2130.0</td>\n",
       "      <td>24.6</td>\n",
       "      <td>82</td>\n",
       "      <td>Europh</td>\n",
       "    </tr>\n",
       "    <tr>\n",
       "      <th>395</th>\n",
       "      <td>32.0</td>\n",
       "      <td>4</td>\n",
       "      <td>135.0</td>\n",
       "      <td>84.0</td>\n",
       "      <td>2295.0</td>\n",
       "      <td>11.6</td>\n",
       "      <td>82</td>\n",
       "      <td>USA</td>\n",
       "    </tr>\n",
       "    <tr>\n",
       "      <th>396</th>\n",
       "      <td>28.0</td>\n",
       "      <td>4</td>\n",
       "      <td>120.0</td>\n",
       "      <td>79.0</td>\n",
       "      <td>2625.0</td>\n",
       "      <td>18.6</td>\n",
       "      <td>82</td>\n",
       "      <td>USA</td>\n",
       "    </tr>\n",
       "    <tr>\n",
       "      <th>397</th>\n",
       "      <td>31.0</td>\n",
       "      <td>4</td>\n",
       "      <td>119.0</td>\n",
       "      <td>82.0</td>\n",
       "      <td>2720.0</td>\n",
       "      <td>19.4</td>\n",
       "      <td>82</td>\n",
       "      <td>USA</td>\n",
       "    </tr>\n",
       "  </tbody>\n",
       "</table>\n",
       "</div>"
      ],
      "text/plain": [
       "      MPG  Cylinders  Displacement  Horsepower  Weight  Acceleration  \\\n",
       "393  27.0          4         140.0        86.0  2790.0          15.6   \n",
       "394  44.0          4          97.0        52.0  2130.0          24.6   \n",
       "395  32.0          4         135.0        84.0  2295.0          11.6   \n",
       "396  28.0          4         120.0        79.0  2625.0          18.6   \n",
       "397  31.0          4         119.0        82.0  2720.0          19.4   \n",
       "\n",
       "     Model Year  Origin  \n",
       "393          82     USA  \n",
       "394          82  Europh  \n",
       "395          82     USA  \n",
       "396          82     USA  \n",
       "397          82     USA  "
      ]
     },
     "execution_count": 10,
     "metadata": {},
     "output_type": "execute_result"
    }
   ],
   "source": [
    "dataset.tail()"
   ]
  },
  {
   "cell_type": "code",
   "execution_count": 11,
   "id": "7d64b19e",
   "metadata": {},
   "outputs": [
    {
     "data": {
      "text/html": [
       "<div>\n",
       "<style scoped>\n",
       "    .dataframe tbody tr th:only-of-type {\n",
       "        vertical-align: middle;\n",
       "    }\n",
       "\n",
       "    .dataframe tbody tr th {\n",
       "        vertical-align: top;\n",
       "    }\n",
       "\n",
       "    .dataframe thead th {\n",
       "        text-align: right;\n",
       "    }\n",
       "</style>\n",
       "<table border=\"1\" class=\"dataframe\">\n",
       "  <thead>\n",
       "    <tr style=\"text-align: right;\">\n",
       "      <th></th>\n",
       "      <th>MPG</th>\n",
       "      <th>Cylinders</th>\n",
       "      <th>Displacement</th>\n",
       "      <th>Horsepower</th>\n",
       "      <th>Weight</th>\n",
       "      <th>Acceleration</th>\n",
       "      <th>Model Year</th>\n",
       "      <th>Europh</th>\n",
       "      <th>Japan</th>\n",
       "      <th>USA</th>\n",
       "    </tr>\n",
       "  </thead>\n",
       "  <tbody>\n",
       "    <tr>\n",
       "      <th>393</th>\n",
       "      <td>27.0</td>\n",
       "      <td>4</td>\n",
       "      <td>140.0</td>\n",
       "      <td>86.0</td>\n",
       "      <td>2790.0</td>\n",
       "      <td>15.6</td>\n",
       "      <td>82</td>\n",
       "      <td>0</td>\n",
       "      <td>0</td>\n",
       "      <td>1</td>\n",
       "    </tr>\n",
       "    <tr>\n",
       "      <th>394</th>\n",
       "      <td>44.0</td>\n",
       "      <td>4</td>\n",
       "      <td>97.0</td>\n",
       "      <td>52.0</td>\n",
       "      <td>2130.0</td>\n",
       "      <td>24.6</td>\n",
       "      <td>82</td>\n",
       "      <td>1</td>\n",
       "      <td>0</td>\n",
       "      <td>0</td>\n",
       "    </tr>\n",
       "    <tr>\n",
       "      <th>395</th>\n",
       "      <td>32.0</td>\n",
       "      <td>4</td>\n",
       "      <td>135.0</td>\n",
       "      <td>84.0</td>\n",
       "      <td>2295.0</td>\n",
       "      <td>11.6</td>\n",
       "      <td>82</td>\n",
       "      <td>0</td>\n",
       "      <td>0</td>\n",
       "      <td>1</td>\n",
       "    </tr>\n",
       "    <tr>\n",
       "      <th>396</th>\n",
       "      <td>28.0</td>\n",
       "      <td>4</td>\n",
       "      <td>120.0</td>\n",
       "      <td>79.0</td>\n",
       "      <td>2625.0</td>\n",
       "      <td>18.6</td>\n",
       "      <td>82</td>\n",
       "      <td>0</td>\n",
       "      <td>0</td>\n",
       "      <td>1</td>\n",
       "    </tr>\n",
       "    <tr>\n",
       "      <th>397</th>\n",
       "      <td>31.0</td>\n",
       "      <td>4</td>\n",
       "      <td>119.0</td>\n",
       "      <td>82.0</td>\n",
       "      <td>2720.0</td>\n",
       "      <td>19.4</td>\n",
       "      <td>82</td>\n",
       "      <td>0</td>\n",
       "      <td>0</td>\n",
       "      <td>1</td>\n",
       "    </tr>\n",
       "  </tbody>\n",
       "</table>\n",
       "</div>"
      ],
      "text/plain": [
       "      MPG  Cylinders  Displacement  Horsepower  Weight  Acceleration  \\\n",
       "393  27.0          4         140.0        86.0  2790.0          15.6   \n",
       "394  44.0          4          97.0        52.0  2130.0          24.6   \n",
       "395  32.0          4         135.0        84.0  2295.0          11.6   \n",
       "396  28.0          4         120.0        79.0  2625.0          18.6   \n",
       "397  31.0          4         119.0        82.0  2720.0          19.4   \n",
       "\n",
       "     Model Year  Europh  Japan  USA  \n",
       "393          82       0      0    1  \n",
       "394          82       1      0    0  \n",
       "395          82       0      0    1  \n",
       "396          82       0      0    1  \n",
       "397          82       0      0    1  "
      ]
     },
     "execution_count": 11,
     "metadata": {},
     "output_type": "execute_result"
    }
   ],
   "source": [
    "dataset = pd.get_dummies(dataset, columns=['Origin'], prefix='', prefix_sep='')\n",
    "dataset.tail()"
   ]
  },
  {
   "cell_type": "code",
   "execution_count": 12,
   "id": "25d75a09",
   "metadata": {},
   "outputs": [],
   "source": [
    "train_dataset = dataset.sample(frac=0.8, random_state=0)\n",
    "test_dataset = dataset.drop(train_dataset.index)"
   ]
  },
  {
   "cell_type": "code",
   "execution_count": 13,
   "id": "6214f025",
   "metadata": {},
   "outputs": [
    {
     "name": "stdout",
     "output_type": "stream",
     "text": [
      "(314, 10)\n",
      "(78, 10)\n"
     ]
    }
   ],
   "source": [
    "print(train_dataset.shape)\n",
    "print(test_dataset.shape)"
   ]
  },
  {
   "cell_type": "code",
   "execution_count": 14,
   "id": "13291b6a",
   "metadata": {},
   "outputs": [
    {
     "data": {
      "text/plain": [
       "<seaborn.axisgrid.PairGrid at 0x222eafc91c0>"
      ]
     },
     "execution_count": 14,
     "metadata": {},
     "output_type": "execute_result"
    },
    {
     "data": {
      "image/png": "[encoded data removed]",
      "text/plain": [
       "<Figure size 720x720 with 20 Axes>"
      ]
     },
     "metadata": {
      "needs_background": "light"
     },
     "output_type": "display_data"
    }
   ],
   "source": [
    "sns.pairplot(train_dataset[['MPG','Cylinders','Displacement','Weight']], diag_kind='kde')"
   ]
  },
  {
   "cell_type": "code",
   "execution_count": 15,
   "id": "c1ac3449",
   "metadata": {},
   "outputs": [
    {
     "data": {
      "text/html": [
       "<div>\n",
       "<style scoped>\n",
       "    .dataframe tbody tr th:only-of-type {\n",
       "        vertical-align: middle;\n",
       "    }\n",
       "\n",
       "    .dataframe tbody tr th {\n",
       "        vertical-align: top;\n",
       "    }\n",
       "\n",
       "    .dataframe thead th {\n",
       "        text-align: right;\n",
       "    }\n",
       "</style>\n",
       "<table border=\"1\" class=\"dataframe\">\n",
       "  <thead>\n",
       "    <tr style=\"text-align: right;\">\n",
       "      <th></th>\n",
       "      <th>MPG</th>\n",
       "      <th>Cylinders</th>\n",
       "      <th>Displacement</th>\n",
       "      <th>Horsepower</th>\n",
       "      <th>Weight</th>\n",
       "      <th>Acceleration</th>\n",
       "      <th>Model Year</th>\n",
       "      <th>Europh</th>\n",
       "      <th>Japan</th>\n",
       "      <th>USA</th>\n",
       "    </tr>\n",
       "  </thead>\n",
       "  <tbody>\n",
       "    <tr>\n",
       "      <th>count</th>\n",
       "      <td>314.000000</td>\n",
       "      <td>314.000000</td>\n",
       "      <td>314.000000</td>\n",
       "      <td>314.000000</td>\n",
       "      <td>314.000000</td>\n",
       "      <td>314.000000</td>\n",
       "      <td>314.000000</td>\n",
       "      <td>314.000000</td>\n",
       "      <td>314.000000</td>\n",
       "      <td>314.000000</td>\n",
       "    </tr>\n",
       "    <tr>\n",
       "      <th>mean</th>\n",
       "      <td>23.310510</td>\n",
       "      <td>5.477707</td>\n",
       "      <td>195.318471</td>\n",
       "      <td>104.869427</td>\n",
       "      <td>2990.251592</td>\n",
       "      <td>15.559236</td>\n",
       "      <td>75.898089</td>\n",
       "      <td>0.178344</td>\n",
       "      <td>0.197452</td>\n",
       "      <td>0.624204</td>\n",
       "    </tr>\n",
       "    <tr>\n",
       "      <th>std</th>\n",
       "      <td>7.728652</td>\n",
       "      <td>1.699788</td>\n",
       "      <td>104.331589</td>\n",
       "      <td>38.096214</td>\n",
       "      <td>843.898596</td>\n",
       "      <td>2.789230</td>\n",
       "      <td>3.675642</td>\n",
       "      <td>0.383413</td>\n",
       "      <td>0.398712</td>\n",
       "      <td>0.485101</td>\n",
       "    </tr>\n",
       "    <tr>\n",
       "      <th>min</th>\n",
       "      <td>10.000000</td>\n",
       "      <td>3.000000</td>\n",
       "      <td>68.000000</td>\n",
       "      <td>46.000000</td>\n",
       "      <td>1649.000000</td>\n",
       "      <td>8.000000</td>\n",
       "      <td>70.000000</td>\n",
       "      <td>0.000000</td>\n",
       "      <td>0.000000</td>\n",
       "      <td>0.000000</td>\n",
       "    </tr>\n",
       "    <tr>\n",
       "      <th>25%</th>\n",
       "      <td>17.000000</td>\n",
       "      <td>4.000000</td>\n",
       "      <td>105.500000</td>\n",
       "      <td>76.250000</td>\n",
       "      <td>2256.500000</td>\n",
       "      <td>13.800000</td>\n",
       "      <td>73.000000</td>\n",
       "      <td>0.000000</td>\n",
       "      <td>0.000000</td>\n",
       "      <td>0.000000</td>\n",
       "    </tr>\n",
       "    <tr>\n",
       "      <th>50%</th>\n",
       "      <td>22.000000</td>\n",
       "      <td>4.000000</td>\n",
       "      <td>151.000000</td>\n",
       "      <td>94.500000</td>\n",
       "      <td>2822.500000</td>\n",
       "      <td>15.500000</td>\n",
       "      <td>76.000000</td>\n",
       "      <td>0.000000</td>\n",
       "      <td>0.000000</td>\n",
       "      <td>1.000000</td>\n",
       "    </tr>\n",
       "    <tr>\n",
       "      <th>75%</th>\n",
       "      <td>28.950000</td>\n",
       "      <td>8.000000</td>\n",
       "      <td>265.750000</td>\n",
       "      <td>128.000000</td>\n",
       "      <td>3608.000000</td>\n",
       "      <td>17.200000</td>\n",
       "      <td>79.000000</td>\n",
       "      <td>0.000000</td>\n",
       "      <td>0.000000</td>\n",
       "      <td>1.000000</td>\n",
       "    </tr>\n",
       "    <tr>\n",
       "      <th>max</th>\n",
       "      <td>46.600000</td>\n",
       "      <td>8.000000</td>\n",
       "      <td>455.000000</td>\n",
       "      <td>225.000000</td>\n",
       "      <td>5140.000000</td>\n",
       "      <td>24.800000</td>\n",
       "      <td>82.000000</td>\n",
       "      <td>1.000000</td>\n",
       "      <td>1.000000</td>\n",
       "      <td>1.000000</td>\n",
       "    </tr>\n",
       "  </tbody>\n",
       "</table>\n",
       "</div>"
      ],
      "text/plain": [
       "              MPG   Cylinders  Displacement  Horsepower       Weight  \\\n",
       "count  314.000000  314.000000    314.000000  314.000000   314.000000   \n",
       "mean    23.310510    5.477707    195.318471  104.869427  2990.251592   \n",
       "std      7.728652    1.699788    104.331589   38.096214   843.898596   \n",
       "min     10.000000    3.000000     68.000000   46.000000  1649.000000   \n",
       "25%     17.000000    4.000000    105.500000   76.250000  2256.500000   \n",
       "50%     22.000000    4.000000    151.000000   94.500000  2822.500000   \n",
       "75%     28.950000    8.000000    265.750000  128.000000  3608.000000   \n",
       "max     46.600000    8.000000    455.000000  225.000000  5140.000000   \n",
       "\n",
       "       Acceleration  Model Year      Europh       Japan         USA  \n",
       "count    314.000000  314.000000  314.000000  314.000000  314.000000  \n",
       "mean      15.559236   75.898089    0.178344    0.197452    0.624204  \n",
       "std        2.789230    3.675642    0.383413    0.398712    0.485101  \n",
       "min        8.000000   70.000000    0.000000    0.000000    0.000000  \n",
       "25%       13.800000   73.000000    0.000000    0.000000    0.000000  \n",
       "50%       15.500000   76.000000    0.000000    0.000000    1.000000  \n",
       "75%       17.200000   79.000000    0.000000    0.000000    1.000000  \n",
       "max       24.800000   82.000000    1.000000    1.000000    1.000000  "
      ]
     },
     "execution_count": 15,
     "metadata": {},
     "output_type": "execute_result"
    }
   ],
   "source": [
    "train_dataset.describe()"
   ]
  },
  {
   "cell_type": "code",
   "execution_count": 16,
   "id": "7655b117",
   "metadata": {},
   "outputs": [
    {
     "data": {
      "text/html": [
       "<div>\n",
       "<style scoped>\n",
       "    .dataframe tbody tr th:only-of-type {\n",
       "        vertical-align: middle;\n",
       "    }\n",
       "\n",
       "    .dataframe tbody tr th {\n",
       "        vertical-align: top;\n",
       "    }\n",
       "\n",
       "    .dataframe thead th {\n",
       "        text-align: right;\n",
       "    }\n",
       "</style>\n",
       "<table border=\"1\" class=\"dataframe\">\n",
       "  <thead>\n",
       "    <tr style=\"text-align: right;\">\n",
       "      <th></th>\n",
       "      <th>count</th>\n",
       "      <th>mean</th>\n",
       "      <th>std</th>\n",
       "      <th>min</th>\n",
       "      <th>25%</th>\n",
       "      <th>50%</th>\n",
       "      <th>75%</th>\n",
       "      <th>max</th>\n",
       "    </tr>\n",
       "  </thead>\n",
       "  <tbody>\n",
       "    <tr>\n",
       "      <th>MPG</th>\n",
       "      <td>314.0</td>\n",
       "      <td>23.310510</td>\n",
       "      <td>7.728652</td>\n",
       "      <td>10.0</td>\n",
       "      <td>17.00</td>\n",
       "      <td>22.0</td>\n",
       "      <td>28.95</td>\n",
       "      <td>46.6</td>\n",
       "    </tr>\n",
       "    <tr>\n",
       "      <th>Cylinders</th>\n",
       "      <td>314.0</td>\n",
       "      <td>5.477707</td>\n",
       "      <td>1.699788</td>\n",
       "      <td>3.0</td>\n",
       "      <td>4.00</td>\n",
       "      <td>4.0</td>\n",
       "      <td>8.00</td>\n",
       "      <td>8.0</td>\n",
       "    </tr>\n",
       "    <tr>\n",
       "      <th>Displacement</th>\n",
       "      <td>314.0</td>\n",
       "      <td>195.318471</td>\n",
       "      <td>104.331589</td>\n",
       "      <td>68.0</td>\n",
       "      <td>105.50</td>\n",
       "      <td>151.0</td>\n",
       "      <td>265.75</td>\n",
       "      <td>455.0</td>\n",
       "    </tr>\n",
       "    <tr>\n",
       "      <th>Horsepower</th>\n",
       "      <td>314.0</td>\n",
       "      <td>104.869427</td>\n",
       "      <td>38.096214</td>\n",
       "      <td>46.0</td>\n",
       "      <td>76.25</td>\n",
       "      <td>94.5</td>\n",
       "      <td>128.00</td>\n",
       "      <td>225.0</td>\n",
       "    </tr>\n",
       "    <tr>\n",
       "      <th>Weight</th>\n",
       "      <td>314.0</td>\n",
       "      <td>2990.251592</td>\n",
       "      <td>843.898596</td>\n",
       "      <td>1649.0</td>\n",
       "      <td>2256.50</td>\n",
       "      <td>2822.5</td>\n",
       "      <td>3608.00</td>\n",
       "      <td>5140.0</td>\n",
       "    </tr>\n",
       "    <tr>\n",
       "      <th>Acceleration</th>\n",
       "      <td>314.0</td>\n",
       "      <td>15.559236</td>\n",
       "      <td>2.789230</td>\n",
       "      <td>8.0</td>\n",
       "      <td>13.80</td>\n",
       "      <td>15.5</td>\n",
       "      <td>17.20</td>\n",
       "      <td>24.8</td>\n",
       "    </tr>\n",
       "    <tr>\n",
       "      <th>Model Year</th>\n",
       "      <td>314.0</td>\n",
       "      <td>75.898089</td>\n",
       "      <td>3.675642</td>\n",
       "      <td>70.0</td>\n",
       "      <td>73.00</td>\n",
       "      <td>76.0</td>\n",
       "      <td>79.00</td>\n",
       "      <td>82.0</td>\n",
       "    </tr>\n",
       "    <tr>\n",
       "      <th>Europh</th>\n",
       "      <td>314.0</td>\n",
       "      <td>0.178344</td>\n",
       "      <td>0.383413</td>\n",
       "      <td>0.0</td>\n",
       "      <td>0.00</td>\n",
       "      <td>0.0</td>\n",
       "      <td>0.00</td>\n",
       "      <td>1.0</td>\n",
       "    </tr>\n",
       "    <tr>\n",
       "      <th>Japan</th>\n",
       "      <td>314.0</td>\n",
       "      <td>0.197452</td>\n",
       "      <td>0.398712</td>\n",
       "      <td>0.0</td>\n",
       "      <td>0.00</td>\n",
       "      <td>0.0</td>\n",
       "      <td>0.00</td>\n",
       "      <td>1.0</td>\n",
       "    </tr>\n",
       "    <tr>\n",
       "      <th>USA</th>\n",
       "      <td>314.0</td>\n",
       "      <td>0.624204</td>\n",
       "      <td>0.485101</td>\n",
       "      <td>0.0</td>\n",
       "      <td>0.00</td>\n",
       "      <td>1.0</td>\n",
       "      <td>1.00</td>\n",
       "      <td>1.0</td>\n",
       "    </tr>\n",
       "  </tbody>\n",
       "</table>\n",
       "</div>"
      ],
      "text/plain": [
       "              count         mean         std     min      25%     50%  \\\n",
       "MPG           314.0    23.310510    7.728652    10.0    17.00    22.0   \n",
       "Cylinders     314.0     5.477707    1.699788     3.0     4.00     4.0   \n",
       "Displacement  314.0   195.318471  104.331589    68.0   105.50   151.0   \n",
       "Horsepower    314.0   104.869427   38.096214    46.0    76.25    94.5   \n",
       "Weight        314.0  2990.251592  843.898596  1649.0  2256.50  2822.5   \n",
       "Acceleration  314.0    15.559236    2.789230     8.0    13.80    15.5   \n",
       "Model Year    314.0    75.898089    3.675642    70.0    73.00    76.0   \n",
       "Europh        314.0     0.178344    0.383413     0.0     0.00     0.0   \n",
       "Japan         314.0     0.197452    0.398712     0.0     0.00     0.0   \n",
       "USA           314.0     0.624204    0.485101     0.0     0.00     1.0   \n",
       "\n",
       "                  75%     max  \n",
       "MPG             28.95    46.6  \n",
       "Cylinders        8.00     8.0  \n",
       "Displacement   265.75   455.0  \n",
       "Horsepower     128.00   225.0  \n",
       "Weight        3608.00  5140.0  \n",
       "Acceleration    17.20    24.8  \n",
       "Model Year      79.00    82.0  \n",
       "Europh           0.00     1.0  \n",
       "Japan            0.00     1.0  \n",
       "USA              1.00     1.0  "
      ]
     },
     "execution_count": 16,
     "metadata": {},
     "output_type": "execute_result"
    }
   ],
   "source": [
    "train_dataset.describe().transpose()"
   ]
  },
  {
   "cell_type": "code",
   "execution_count": 17,
   "id": "34cf41a1",
   "metadata": {},
   "outputs": [],
   "source": [
    "train_features = train_dataset.copy()\n",
    "test_features = test_dataset.copy()"
   ]
  },
  {
   "cell_type": "code",
   "execution_count": 18,
   "id": "106c4808",
   "metadata": {},
   "outputs": [],
   "source": [
    "train_labels = train_features.pop('MPG')\n",
    "test_labels =test_features.pop('MPG')\n"
   ]
  },
  {
   "cell_type": "code",
   "execution_count": 19,
   "id": "3fd40d1a",
   "metadata": {},
   "outputs": [
    {
     "data": {
      "text/plain": [
       "146    28.0\n",
       "282    22.3\n",
       "69     12.0\n",
       "378    38.0\n",
       "331    33.8\n",
       "       ... \n",
       "281    19.8\n",
       "229    16.0\n",
       "150    26.0\n",
       "145    32.0\n",
       "182    28.0\n",
       "Name: MPG, Length: 314, dtype: float64"
      ]
     },
     "execution_count": 19,
     "metadata": {},
     "output_type": "execute_result"
    }
   ],
   "source": [
    "train_labels"
   ]
  },
  {
   "cell_type": "markdown",
   "id": "36b68018",
   "metadata": {},
   "source": [
    "# Normalization"
   ]
  },
  {
   "cell_type": "code",
   "execution_count": 20,
   "id": "703aecbb",
   "metadata": {},
   "outputs": [
    {
     "data": {
      "text/html": [
       "<div>\n",
       "<style scoped>\n",
       "    .dataframe tbody tr th:only-of-type {\n",
       "        vertical-align: middle;\n",
       "    }\n",
       "\n",
       "    .dataframe tbody tr th {\n",
       "        vertical-align: top;\n",
       "    }\n",
       "\n",
       "    .dataframe thead th {\n",
       "        text-align: right;\n",
       "    }\n",
       "</style>\n",
       "<table border=\"1\" class=\"dataframe\">\n",
       "  <thead>\n",
       "    <tr style=\"text-align: right;\">\n",
       "      <th></th>\n",
       "      <th>mean</th>\n",
       "      <th>std</th>\n",
       "    </tr>\n",
       "  </thead>\n",
       "  <tbody>\n",
       "    <tr>\n",
       "      <th>MPG</th>\n",
       "      <td>23.310510</td>\n",
       "      <td>7.728652</td>\n",
       "    </tr>\n",
       "    <tr>\n",
       "      <th>Cylinders</th>\n",
       "      <td>5.477707</td>\n",
       "      <td>1.699788</td>\n",
       "    </tr>\n",
       "    <tr>\n",
       "      <th>Displacement</th>\n",
       "      <td>195.318471</td>\n",
       "      <td>104.331589</td>\n",
       "    </tr>\n",
       "    <tr>\n",
       "      <th>Horsepower</th>\n",
       "      <td>104.869427</td>\n",
       "      <td>38.096214</td>\n",
       "    </tr>\n",
       "    <tr>\n",
       "      <th>Weight</th>\n",
       "      <td>2990.251592</td>\n",
       "      <td>843.898596</td>\n",
       "    </tr>\n",
       "    <tr>\n",
       "      <th>Acceleration</th>\n",
       "      <td>15.559236</td>\n",
       "      <td>2.789230</td>\n",
       "    </tr>\n",
       "    <tr>\n",
       "      <th>Model Year</th>\n",
       "      <td>75.898089</td>\n",
       "      <td>3.675642</td>\n",
       "    </tr>\n",
       "    <tr>\n",
       "      <th>Europh</th>\n",
       "      <td>0.178344</td>\n",
       "      <td>0.383413</td>\n",
       "    </tr>\n",
       "    <tr>\n",
       "      <th>Japan</th>\n",
       "      <td>0.197452</td>\n",
       "      <td>0.398712</td>\n",
       "    </tr>\n",
       "    <tr>\n",
       "      <th>USA</th>\n",
       "      <td>0.624204</td>\n",
       "      <td>0.485101</td>\n",
       "    </tr>\n",
       "  </tbody>\n",
       "</table>\n",
       "</div>"
      ],
      "text/plain": [
       "                     mean         std\n",
       "MPG             23.310510    7.728652\n",
       "Cylinders        5.477707    1.699788\n",
       "Displacement   195.318471  104.331589\n",
       "Horsepower     104.869427   38.096214\n",
       "Weight        2990.251592  843.898596\n",
       "Acceleration    15.559236    2.789230\n",
       "Model Year      75.898089    3.675642\n",
       "Europh           0.178344    0.383413\n",
       "Japan            0.197452    0.398712\n",
       "USA              0.624204    0.485101"
      ]
     },
     "execution_count": 20,
     "metadata": {},
     "output_type": "execute_result"
    }
   ],
   "source": [
    "train_dataset.describe().transpose()[['mean','std']]"
   ]
  },
  {
   "cell_type": "code",
   "execution_count": 21,
   "id": "013e160a",
   "metadata": {},
   "outputs": [],
   "source": [
    "normalizer = tf.keras.layers.Normalization(axis=-1)\n"
   ]
  },
  {
   "cell_type": "code",
   "execution_count": 22,
   "id": "12c8b893",
   "metadata": {},
   "outputs": [],
   "source": [
    "normalizer.adapt(np.array(train_features))"
   ]
  },
  {
   "cell_type": "code",
   "execution_count": 23,
   "id": "cd4b0089",
   "metadata": {},
   "outputs": [
    {
     "name": "stdout",
     "output_type": "stream",
     "text": [
      "[[   5.478  195.318  104.869 2990.252   15.559   75.898    0.178    0.197\n",
      "     0.624]]\n"
     ]
    }
   ],
   "source": [
    "print(normalizer.mean.numpy())"
   ]
  },
  {
   "cell_type": "code",
   "execution_count": 24,
   "id": "a91878ff",
   "metadata": {},
   "outputs": [
    {
     "name": "stdout",
     "output_type": "stream",
     "text": [
      "First_Example:  [[   4.    90.    75.  2125.    14.5   74.     0.     0.     1. ]]\n",
      "\n",
      "Normalized:  [[-0.87 -1.01 -0.79 -1.03 -0.38 -0.52 -0.47 -0.5   0.78]]\n"
     ]
    }
   ],
   "source": [
    "first = np.array(train_features[:1])\n",
    "with np.printoptions(precision=2, suppress=True):\n",
    "    print(\"First_Example: \", first)\n",
    "    print()\n",
    "    print('Normalized: ',normalizer(first).numpy())"
   ]
  },
  {
   "cell_type": "markdown",
   "id": "b485163a",
   "metadata": {},
   "source": [
    "# Linear regression"
   ]
  },
  {
   "cell_type": "code",
   "execution_count": 25,
   "id": "d7d3f97d",
   "metadata": {},
   "outputs": [],
   "source": [
    "#Begin with a single-variable linear regression to predict 'MPG' from 'Horsepower'\n",
    "\n",
    "horsepower = np.array(train_features['Horsepower'])\n",
    "\n",
    "horsepower_normalizer = layers.Normalization(input_shape=[1,], axis=None)\n",
    "\n",
    "horsepower_normalizer.adapt(horsepower)"
   ]
  },
  {
   "cell_type": "markdown",
   "id": "406d6310",
   "metadata": {},
   "source": [
    "# Build the Keras Sequential model:"
   ]
  },
  {
   "cell_type": "code",
   "execution_count": 26,
   "id": "ef80fb7d",
   "metadata": {},
   "outputs": [
    {
     "name": "stdout",
     "output_type": "stream",
     "text": [
      "Model: \"sequential\"\n",
      "_________________________________________________________________\n",
      " Layer (type)                Output Shape              Param #   \n",
      "=================================================================\n",
      " normalization_1 (Normalizat  (None, 1)                3         \n",
      " ion)                                                            \n",
      "                                                                 \n",
      " dense (Dense)               (None, 1)                 2         \n",
      "                                                                 \n",
      "=================================================================\n",
      "Total params: 5\n",
      "Trainable params: 2\n",
      "Non-trainable params: 3\n",
      "_________________________________________________________________\n"
     ]
    }
   ],
   "source": [
    "horsepower_model = tf.keras.Sequential([\n",
    "    horsepower_normalizer,\n",
    "    layers.Dense(units=1)\n",
    "])\n",
    "\n",
    "horsepower_model.summary()"
   ]
  },
  {
   "cell_type": "code",
   "execution_count": 27,
   "id": "0b86ac71",
   "metadata": {},
   "outputs": [
    {
     "name": "stdout",
     "output_type": "stream",
     "text": [
      "1/1 [==============================] - 0s 66ms/step\n"
     ]
    },
    {
     "data": {
      "text/plain": [
       "array([[-0.928],\n",
       "       [-0.524],\n",
       "       [ 1.713],\n",
       "       [-1.301],\n",
       "       [-1.177],\n",
       "       [-0.462],\n",
       "       [-1.394],\n",
       "       [-1.177],\n",
       "       [-0.307],\n",
       "       [-0.524]], dtype=float32)"
      ]
     },
     "execution_count": 27,
     "metadata": {},
     "output_type": "execute_result"
    }
   ],
   "source": [
    "horsepower_model.predict(horsepower[:10])"
   ]
  },
  {
   "cell_type": "code",
   "execution_count": 28,
   "id": "c02f9429",
   "metadata": {},
   "outputs": [],
   "source": [
    "horsepower_model.compile(\n",
    " optimizer=tf.keras.optimizers.Adam(learning_rate=0.1),\n",
    "    loss='mean_absolute_error'\n",
    "\n",
    ")"
   ]
  },
  {
   "cell_type": "code",
   "execution_count": 29,
   "id": "d84a68a7",
   "metadata": {},
   "outputs": [
    {
     "name": "stdout",
     "output_type": "stream",
     "text": [
      "Epoch 1/100\n",
      "8/8 [==============================] - 0s 36ms/step - loss: 22.8746 - val_loss: 22.9374\n",
      "Epoch 2/100\n",
      "8/8 [==============================] - 0s 4ms/step - loss: 22.0618 - val_loss: 22.1376\n",
      "Epoch 3/100\n",
      "8/8 [==============================] - 0s 4ms/step - loss: 21.2616 - val_loss: 21.3376\n",
      "Epoch 4/100\n",
      "8/8 [==============================] - 0s 4ms/step - loss: 20.4613 - val_loss: 20.5379\n",
      "Epoch 5/100\n",
      "8/8 [==============================] - 0s 5ms/step - loss: 19.6680 - val_loss: 19.7382\n",
      "Epoch 6/100\n",
      "8/8 [==============================] - 0s 4ms/step - loss: 18.8640 - val_loss: 18.9380\n",
      "Epoch 7/100\n",
      "8/8 [==============================] - 0s 4ms/step - loss: 18.0659 - val_loss: 18.1382\n",
      "Epoch 8/100\n",
      "8/8 [==============================] - 0s 4ms/step - loss: 17.2613 - val_loss: 17.3381\n",
      "Epoch 9/100\n",
      "8/8 [==============================] - 0s 5ms/step - loss: 16.4619 - val_loss: 16.5380\n",
      "Epoch 10/100\n",
      "8/8 [==============================] - 0s 4ms/step - loss: 15.6649 - val_loss: 15.7401\n",
      "Epoch 11/100\n",
      "8/8 [==============================] - 0s 4ms/step - loss: 14.8741 - val_loss: 14.9462\n",
      "Epoch 12/100\n",
      "8/8 [==============================] - 0s 4ms/step - loss: 14.0943 - val_loss: 14.1690\n",
      "Epoch 13/100\n",
      "8/8 [==============================] - 0s 4ms/step - loss: 13.3124 - val_loss: 13.3986\n",
      "Epoch 14/100\n",
      "8/8 [==============================] - 0s 4ms/step - loss: 12.5292 - val_loss: 12.6165\n",
      "Epoch 15/100\n",
      "8/8 [==============================] - 0s 4ms/step - loss: 11.7534 - val_loss: 11.8306\n",
      "Epoch 16/100\n",
      "8/8 [==============================] - 0s 4ms/step - loss: 10.9761 - val_loss: 11.0488\n",
      "Epoch 17/100\n",
      "8/8 [==============================] - 0s 5ms/step - loss: 10.1810 - val_loss: 10.2771\n",
      "Epoch 18/100\n",
      "8/8 [==============================] - 0s 4ms/step - loss: 9.4227 - val_loss: 9.4978\n",
      "Epoch 19/100\n",
      "8/8 [==============================] - 0s 4ms/step - loss: 8.6708 - val_loss: 8.7417\n",
      "Epoch 20/100\n",
      "8/8 [==============================] - 0s 4ms/step - loss: 7.9683 - val_loss: 7.9990\n",
      "Epoch 21/100\n",
      "8/8 [==============================] - 0s 5ms/step - loss: 7.2783 - val_loss: 7.2885\n",
      "Epoch 22/100\n",
      "8/8 [==============================] - 0s 4ms/step - loss: 6.6460 - val_loss: 6.6395\n",
      "Epoch 23/100\n",
      "8/8 [==============================] - 0s 4ms/step - loss: 6.0429 - val_loss: 6.0549\n",
      "Epoch 24/100\n",
      "8/8 [==============================] - 0s 4ms/step - loss: 5.5229 - val_loss: 5.6188\n",
      "Epoch 25/100\n",
      "8/8 [==============================] - 0s 4ms/step - loss: 5.1117 - val_loss: 5.2709\n",
      "Epoch 26/100\n",
      "8/8 [==============================] - 0s 5ms/step - loss: 4.7827 - val_loss: 5.0295\n",
      "Epoch 27/100\n",
      "8/8 [==============================] - 0s 5ms/step - loss: 4.5225 - val_loss: 4.8513\n",
      "Epoch 28/100\n",
      "8/8 [==============================] - 0s 4ms/step - loss: 4.2980 - val_loss: 4.6715\n",
      "Epoch 29/100\n",
      "8/8 [==============================] - 0s 5ms/step - loss: 4.1398 - val_loss: 4.5534\n",
      "Epoch 30/100\n",
      "8/8 [==============================] - 0s 5ms/step - loss: 4.0295 - val_loss: 4.4597\n",
      "Epoch 31/100\n",
      "8/8 [==============================] - 0s 5ms/step - loss: 3.9580 - val_loss: 4.3868\n",
      "Epoch 32/100\n",
      "8/8 [==============================] - 0s 5ms/step - loss: 3.9009 - val_loss: 4.3302\n",
      "Epoch 33/100\n",
      "8/8 [==============================] - 0s 6ms/step - loss: 3.8660 - val_loss: 4.3105\n",
      "Epoch 34/100\n",
      "8/8 [==============================] - 0s 5ms/step - loss: 3.8425 - val_loss: 4.2772\n",
      "Epoch 35/100\n",
      "8/8 [==============================] - 0s 4ms/step - loss: 3.8352 - val_loss: 4.2416\n",
      "Epoch 36/100\n",
      "8/8 [==============================] - 0s 4ms/step - loss: 3.8165 - val_loss: 4.2180\n",
      "Epoch 37/100\n",
      "8/8 [==============================] - 0s 5ms/step - loss: 3.8164 - val_loss: 4.1888\n",
      "Epoch 38/100\n",
      "8/8 [==============================] - 0s 5ms/step - loss: 3.8106 - val_loss: 4.2035\n",
      "Epoch 39/100\n",
      "8/8 [==============================] - 0s 4ms/step - loss: 3.8098 - val_loss: 4.2090\n",
      "Epoch 40/100\n",
      "8/8 [==============================] - 0s 4ms/step - loss: 3.8034 - val_loss: 4.2000\n",
      "Epoch 41/100\n",
      "8/8 [==============================] - 0s 5ms/step - loss: 3.8080 - val_loss: 4.1847\n",
      "Epoch 42/100\n",
      "8/8 [==============================] - 0s 4ms/step - loss: 3.8111 - val_loss: 4.2084\n",
      "Epoch 43/100\n",
      "8/8 [==============================] - 0s 5ms/step - loss: 3.8034 - val_loss: 4.1894\n",
      "Epoch 44/100\n",
      "8/8 [==============================] - 0s 4ms/step - loss: 3.8032 - val_loss: 4.1785\n",
      "Epoch 45/100\n",
      "8/8 [==============================] - 0s 5ms/step - loss: 3.8044 - val_loss: 4.1860\n",
      "Epoch 46/100\n",
      "8/8 [==============================] - 0s 4ms/step - loss: 3.8034 - val_loss: 4.1864\n",
      "Epoch 47/100\n",
      "8/8 [==============================] - 0s 4ms/step - loss: 3.8026 - val_loss: 4.1967\n",
      "Epoch 48/100\n",
      "8/8 [==============================] - 0s 4ms/step - loss: 3.8047 - val_loss: 4.2011\n",
      "Epoch 49/100\n",
      "8/8 [==============================] - 0s 5ms/step - loss: 3.8036 - val_loss: 4.1890\n",
      "Epoch 50/100\n",
      "8/8 [==============================] - 0s 4ms/step - loss: 3.8058 - val_loss: 4.1711\n",
      "Epoch 51/100\n",
      "8/8 [==============================] - 0s 4ms/step - loss: 3.8038 - val_loss: 4.1833\n",
      "Epoch 52/100\n",
      "8/8 [==============================] - 0s 4ms/step - loss: 3.8017 - val_loss: 4.1996\n",
      "Epoch 53/100\n",
      "8/8 [==============================] - 0s 5ms/step - loss: 3.8078 - val_loss: 4.2086\n",
      "Epoch 54/100\n",
      "8/8 [==============================] - 0s 4ms/step - loss: 3.8027 - val_loss: 4.1917\n",
      "Epoch 55/100\n",
      "8/8 [==============================] - 0s 4ms/step - loss: 3.8020 - val_loss: 4.1697\n",
      "Epoch 56/100\n",
      "8/8 [==============================] - 0s 4ms/step - loss: 3.8039 - val_loss: 4.1666\n",
      "Epoch 57/100\n",
      "8/8 [==============================] - 0s 4ms/step - loss: 3.8046 - val_loss: 4.1939\n",
      "Epoch 58/100\n",
      "8/8 [==============================] - 0s 5ms/step - loss: 3.8046 - val_loss: 4.1920\n",
      "Epoch 59/100\n",
      "8/8 [==============================] - 0s 5ms/step - loss: 3.8041 - val_loss: 4.1956\n",
      "Epoch 60/100\n",
      "8/8 [==============================] - 0s 5ms/step - loss: 3.8045 - val_loss: 4.1944\n",
      "Epoch 61/100\n",
      "8/8 [==============================] - 0s 4ms/step - loss: 3.8042 - val_loss: 4.2066\n",
      "Epoch 62/100\n",
      "8/8 [==============================] - 0s 4ms/step - loss: 3.8038 - val_loss: 4.1972\n",
      "Epoch 63/100\n",
      "8/8 [==============================] - 0s 5ms/step - loss: 3.8034 - val_loss: 4.1897\n",
      "Epoch 64/100\n",
      "8/8 [==============================] - 0s 5ms/step - loss: 3.8036 - val_loss: 4.1946\n",
      "Epoch 65/100\n",
      "8/8 [==============================] - 0s 4ms/step - loss: 3.8050 - val_loss: 4.1735\n",
      "Epoch 66/100\n",
      "8/8 [==============================] - 0s 4ms/step - loss: 3.8073 - val_loss: 4.1666\n",
      "Epoch 67/100\n",
      "8/8 [==============================] - 0s 4ms/step - loss: 3.8060 - val_loss: 4.2039\n",
      "Epoch 68/100\n",
      "8/8 [==============================] - 0s 4ms/step - loss: 3.8061 - val_loss: 4.1854\n",
      "Epoch 69/100\n",
      "8/8 [==============================] - 0s 4ms/step - loss: 3.8022 - val_loss: 4.1947\n",
      "Epoch 70/100\n",
      "8/8 [==============================] - 0s 4ms/step - loss: 3.8027 - val_loss: 4.1963\n",
      "Epoch 71/100\n",
      "8/8 [==============================] - 0s 4ms/step - loss: 3.8040 - val_loss: 4.1746\n",
      "Epoch 72/100\n",
      "8/8 [==============================] - 0s 4ms/step - loss: 3.8045 - val_loss: 4.1720\n",
      "Epoch 73/100\n",
      "8/8 [==============================] - 0s 4ms/step - loss: 3.8042 - val_loss: 4.1991\n",
      "Epoch 74/100\n",
      "8/8 [==============================] - 0s 4ms/step - loss: 3.8037 - val_loss: 4.1844\n",
      "Epoch 75/100\n",
      "8/8 [==============================] - 0s 4ms/step - loss: 3.8030 - val_loss: 4.1920\n",
      "Epoch 76/100\n",
      "8/8 [==============================] - 0s 4ms/step - loss: 3.8037 - val_loss: 4.2134\n",
      "Epoch 77/100\n",
      "8/8 [==============================] - 0s 5ms/step - loss: 3.8051 - val_loss: 4.1938\n",
      "Epoch 78/100\n",
      "8/8 [==============================] - 0s 5ms/step - loss: 3.8041 - val_loss: 4.1607\n",
      "Epoch 79/100\n",
      "8/8 [==============================] - 0s 6ms/step - loss: 3.8091 - val_loss: 4.1618\n",
      "Epoch 80/100\n",
      "8/8 [==============================] - 0s 5ms/step - loss: 3.8035 - val_loss: 4.1797\n",
      "Epoch 81/100\n",
      "8/8 [==============================] - 0s 5ms/step - loss: 3.8065 - val_loss: 4.2076\n",
      "Epoch 82/100\n",
      "8/8 [==============================] - 0s 4ms/step - loss: 3.8039 - val_loss: 4.2023\n",
      "Epoch 83/100\n",
      "8/8 [==============================] - 0s 5ms/step - loss: 3.8041 - val_loss: 4.1799\n",
      "Epoch 84/100\n"
     ]
    },
    {
     "name": "stdout",
     "output_type": "stream",
     "text": [
      "8/8 [==============================] - 0s 5ms/step - loss: 3.8093 - val_loss: 4.1626\n",
      "Epoch 85/100\n",
      "8/8 [==============================] - 0s 4ms/step - loss: 3.8194 - val_loss: 4.2096\n",
      "Epoch 86/100\n",
      "8/8 [==============================] - 0s 5ms/step - loss: 3.8057 - val_loss: 4.1845\n",
      "Epoch 87/100\n",
      "8/8 [==============================] - 0s 4ms/step - loss: 3.8050 - val_loss: 4.1713\n",
      "Epoch 88/100\n",
      "8/8 [==============================] - 0s 5ms/step - loss: 3.8039 - val_loss: 4.1876\n",
      "Epoch 89/100\n",
      "8/8 [==============================] - 0s 4ms/step - loss: 3.8025 - val_loss: 4.2008\n",
      "Epoch 90/100\n",
      "8/8 [==============================] - 0s 4ms/step - loss: 3.8036 - val_loss: 4.1903\n",
      "Epoch 91/100\n",
      "8/8 [==============================] - 0s 4ms/step - loss: 3.8034 - val_loss: 4.1927\n",
      "Epoch 92/100\n",
      "8/8 [==============================] - 0s 4ms/step - loss: 3.8037 - val_loss: 4.1798\n",
      "Epoch 93/100\n",
      "8/8 [==============================] - 0s 4ms/step - loss: 3.8059 - val_loss: 4.1816\n",
      "Epoch 94/100\n",
      "8/8 [==============================] - 0s 4ms/step - loss: 3.8039 - val_loss: 4.2121\n",
      "Epoch 95/100\n",
      "8/8 [==============================] - 0s 4ms/step - loss: 3.8082 - val_loss: 4.2115\n",
      "Epoch 96/100\n",
      "8/8 [==============================] - 0s 4ms/step - loss: 3.8010 - val_loss: 4.1801\n",
      "Epoch 97/100\n",
      "8/8 [==============================] - 0s 4ms/step - loss: 3.8043 - val_loss: 4.1689\n",
      "Epoch 98/100\n",
      "8/8 [==============================] - 0s 5ms/step - loss: 3.8046 - val_loss: 4.1772\n",
      "Epoch 99/100\n",
      "8/8 [==============================] - 0s 4ms/step - loss: 3.8044 - val_loss: 4.1993\n",
      "Epoch 100/100\n",
      "8/8 [==============================] - 0s 4ms/step - loss: 3.8055 - val_loss: 4.1925\n",
      "CPU times: total: 1.05 s\n",
      "Wall time: 3.81 s\n"
     ]
    }
   ],
   "source": [
    "%%time\n",
    "history = horsepower_model.fit(\n",
    "    train_features['Horsepower'],\n",
    "    train_labels,\n",
    "    epochs=100,\n",
    "    verbose=1,\n",
    "    validation_split = 0.2\n",
    "\n",
    ")"
   ]
  },
  {
   "cell_type": "code",
   "execution_count": 30,
   "id": "d26bf0b1",
   "metadata": {},
   "outputs": [
    {
     "data": {
      "text/html": [
       "<div>\n",
       "<style scoped>\n",
       "    .dataframe tbody tr th:only-of-type {\n",
       "        vertical-align: middle;\n",
       "    }\n",
       "\n",
       "    .dataframe tbody tr th {\n",
       "        vertical-align: top;\n",
       "    }\n",
       "\n",
       "    .dataframe thead th {\n",
       "        text-align: right;\n",
       "    }\n",
       "</style>\n",
       "<table border=\"1\" class=\"dataframe\">\n",
       "  <thead>\n",
       "    <tr style=\"text-align: right;\">\n",
       "      <th></th>\n",
       "      <th>loss</th>\n",
       "      <th>val_loss</th>\n",
       "      <th>epoch</th>\n",
       "    </tr>\n",
       "  </thead>\n",
       "  <tbody>\n",
       "    <tr>\n",
       "      <th>95</th>\n",
       "      <td>3.800954</td>\n",
       "      <td>4.180137</td>\n",
       "      <td>95</td>\n",
       "    </tr>\n",
       "    <tr>\n",
       "      <th>96</th>\n",
       "      <td>3.804261</td>\n",
       "      <td>4.168902</td>\n",
       "      <td>96</td>\n",
       "    </tr>\n",
       "    <tr>\n",
       "      <th>97</th>\n",
       "      <td>3.804625</td>\n",
       "      <td>4.177154</td>\n",
       "      <td>97</td>\n",
       "    </tr>\n",
       "    <tr>\n",
       "      <th>98</th>\n",
       "      <td>3.804428</td>\n",
       "      <td>4.199340</td>\n",
       "      <td>98</td>\n",
       "    </tr>\n",
       "    <tr>\n",
       "      <th>99</th>\n",
       "      <td>3.805516</td>\n",
       "      <td>4.192452</td>\n",
       "      <td>99</td>\n",
       "    </tr>\n",
       "  </tbody>\n",
       "</table>\n",
       "</div>"
      ],
      "text/plain": [
       "        loss  val_loss  epoch\n",
       "95  3.800954  4.180137     95\n",
       "96  3.804261  4.168902     96\n",
       "97  3.804625  4.177154     97\n",
       "98  3.804428  4.199340     98\n",
       "99  3.805516  4.192452     99"
      ]
     },
     "execution_count": 30,
     "metadata": {},
     "output_type": "execute_result"
    }
   ],
   "source": [
    "hist = pd.DataFrame(history.history)\n",
    "hist['epoch'] = history.epoch\n",
    "hist.tail()"
   ]
  },
  {
   "cell_type": "code",
   "execution_count": 31,
   "id": "3f5a9358",
   "metadata": {},
   "outputs": [],
   "source": [
    "def plot_loss(history):\n",
    "  plt.plot(history.history['loss'], label='loss')\n",
    "  plt.plot(history.history['val_loss'], label='val_loss')\n",
    "  plt.ylim([0, 10])\n",
    "  plt.xlabel('Epoch')\n",
    "  plt.ylabel('Error [MPG]')\n",
    "  plt.legend()\n",
    "  plt.grid(True)"
   ]
  },
  {
   "cell_type": "code",
   "execution_count": 32,
   "id": "e0c5090b",
   "metadata": {},
   "outputs": [
    {
     "data": {
      "image/png": "[encoded data removed]",
      "text/plain": [
       "<Figure size 432x288 with 1 Axes>"
      ]
     },
     "metadata": {
      "needs_background": "light"
     },
     "output_type": "display_data"
    }
   ],
   "source": [
    "plot_loss(history)"
   ]
  },
  {
   "cell_type": "code",
   "execution_count": 33,
   "id": "57b4aa2b",
   "metadata": {},
   "outputs": [
    {
     "name": "stdout",
     "output_type": "stream",
     "text": [
      "3/3 [==============================] - 0s 2ms/step - loss: 3.6424\n"
     ]
    }
   ],
   "source": [
    "test_result = {}\n",
    "test_result['horsepower_model'] = horsepower_model.evaluate(\n",
    "    test_features['Horsepower'],\n",
    "    test_labels, verbose=1\n",
    "\n",
    ")"
   ]
  },
  {
   "cell_type": "code",
   "execution_count": 34,
   "id": "aded2cac",
   "metadata": {},
   "outputs": [
    {
     "name": "stdout",
     "output_type": "stream",
     "text": [
      "8/8 [==============================] - 0s 858us/step\n"
     ]
    }
   ],
   "source": [
    "x = tf.linspace(0.0, 250, 251)\n",
    "y = horsepower_model.predict(x)"
   ]
  },
  {
   "cell_type": "code",
   "execution_count": 35,
   "id": "e9412c3d",
   "metadata": {},
   "outputs": [],
   "source": [
    "def plot_horsepower(x, y):\n",
    "  plt.scatter(train_features['Horsepower'], train_labels, label='Data')\n",
    "  plt.plot(x, y, color='k', label='Predictions')\n",
    "  plt.xlabel('Horsepower')\n",
    "  plt.ylabel('MPG')\n",
    "  plt.legend()"
   ]
  },
  {
   "cell_type": "code",
   "execution_count": 36,
   "id": "f5366597",
   "metadata": {},
   "outputs": [
    {
     "data": {
      "image/png": "[encoded data removed]",
      "text/plain": [
       "<Figure size 432x288 with 1 Axes>"
      ]
     },
     "metadata": {
      "needs_background": "light"
     },
     "output_type": "display_data"
    }
   ],
   "source": [
    "plot_horsepower(x, y)"
   ]
  },
  {
   "cell_type": "markdown",
   "id": "dc45823b",
   "metadata": {},
   "source": [
    "# Linear regression with multiple inputs"
   ]
  },
  {
   "cell_type": "code",
   "execution_count": 37,
   "id": "4c3551e3",
   "metadata": {},
   "outputs": [],
   "source": [
    "linear_model = tf.keras.Sequential([\n",
    "    normalizer,\n",
    "    layers.Dense(units=1)\n",
    "])"
   ]
  },
  {
   "cell_type": "code",
   "execution_count": 38,
   "id": "2c8e430d",
   "metadata": {},
   "outputs": [
    {
     "name": "stdout",
     "output_type": "stream",
     "text": [
      "1/1 [==============================] - 0s 42ms/step\n"
     ]
    },
    {
     "data": {
      "text/plain": [
       "array([[-0.609],\n",
       "       [-0.635],\n",
       "       [ 2.518],\n",
       "       [-0.558],\n",
       "       [-1.631],\n",
       "       [-0.032],\n",
       "       [-1.971],\n",
       "       [-3.369],\n",
       "       [-0.065],\n",
       "       [-1.705]], dtype=float32)"
      ]
     },
     "execution_count": 38,
     "metadata": {},
     "output_type": "execute_result"
    }
   ],
   "source": [
    "#When you call Model.predict on a batch of inputs, it produces units=1 outputs for each example:\n",
    "\n",
    "linear_model.predict(train_features[:10])"
   ]
  },
  {
   "cell_type": "code",
   "execution_count": 39,
   "id": "e3b9dbc9",
   "metadata": {},
   "outputs": [],
   "source": [
    "linear_model.compile(\n",
    "optimizer=tf.keras.optimizers.Adam(learning_rate=0.1),\n",
    "    loss='mean_absolute_error'\n",
    ")"
   ]
  },
  {
   "cell_type": "code",
   "execution_count": 41,
   "id": "dd44b338",
   "metadata": {},
   "outputs": [
    {
     "name": "stdout",
     "output_type": "stream",
     "text": [
      "Epoch 1/100\n",
      "8/8 [==============================] - 0s 20ms/step - loss: 21.8463 - val_loss: 22.1179\n",
      "Epoch 2/100\n",
      "8/8 [==============================] - 0s 5ms/step - loss: 21.0261 - val_loss: 21.3866\n",
      "Epoch 3/100\n",
      "8/8 [==============================] - 0s 5ms/step - loss: 20.2132 - val_loss: 20.6402\n",
      "Epoch 4/100\n",
      "8/8 [==============================] - 0s 4ms/step - loss: 19.3827 - val_loss: 19.8866\n",
      "Epoch 5/100\n",
      "8/8 [==============================] - 0s 5ms/step - loss: 18.5868 - val_loss: 19.1563\n",
      "Epoch 6/100\n",
      "8/8 [==============================] - 0s 4ms/step - loss: 17.7678 - val_loss: 18.4539\n",
      "Epoch 7/100\n",
      "8/8 [==============================] - 0s 4ms/step - loss: 16.9621 - val_loss: 17.7210\n",
      "Epoch 8/100\n",
      "8/8 [==============================] - 0s 4ms/step - loss: 16.1796 - val_loss: 16.9385\n",
      "Epoch 9/100\n",
      "8/8 [==============================] - 0s 5ms/step - loss: 15.3546 - val_loss: 16.1925\n",
      "Epoch 10/100\n",
      "8/8 [==============================] - 0s 4ms/step - loss: 14.5656 - val_loss: 15.4818\n",
      "Epoch 11/100\n",
      "8/8 [==============================] - 0s 5ms/step - loss: 13.7330 - val_loss: 14.7444\n",
      "Epoch 12/100\n",
      "8/8 [==============================] - 0s 5ms/step - loss: 12.9333 - val_loss: 14.0404\n",
      "Epoch 13/100\n",
      "8/8 [==============================] - 0s 4ms/step - loss: 12.1254 - val_loss: 13.2629\n",
      "Epoch 14/100\n",
      "8/8 [==============================] - 0s 5ms/step - loss: 11.3220 - val_loss: 12.5144\n",
      "Epoch 15/100\n",
      "8/8 [==============================] - 0s 4ms/step - loss: 10.5411 - val_loss: 11.8152\n",
      "Epoch 16/100\n",
      "8/8 [==============================] - 0s 4ms/step - loss: 9.7439 - val_loss: 11.1390\n",
      "Epoch 17/100\n",
      "8/8 [==============================] - 0s 5ms/step - loss: 8.9598 - val_loss: 10.3093\n",
      "Epoch 18/100\n",
      "8/8 [==============================] - 0s 4ms/step - loss: 8.1866 - val_loss: 9.5858\n",
      "Epoch 19/100\n",
      "8/8 [==============================] - 0s 5ms/step - loss: 7.4701 - val_loss: 8.7968\n",
      "Epoch 20/100\n",
      "8/8 [==============================] - 0s 5ms/step - loss: 6.7685 - val_loss: 8.1851\n",
      "Epoch 21/100\n",
      "8/8 [==============================] - 0s 6ms/step - loss: 6.1610 - val_loss: 7.5678\n",
      "Epoch 22/100\n",
      "8/8 [==============================] - 0s 5ms/step - loss: 5.6249 - val_loss: 6.9917\n",
      "Epoch 23/100\n",
      "8/8 [==============================] - 0s 4ms/step - loss: 5.0756 - val_loss: 6.3220\n",
      "Epoch 24/100\n",
      "8/8 [==============================] - 0s 4ms/step - loss: 4.6442 - val_loss: 5.6399\n",
      "Epoch 25/100\n",
      "8/8 [==============================] - 0s 4ms/step - loss: 4.2000 - val_loss: 4.9810\n",
      "Epoch 26/100\n",
      "8/8 [==============================] - 0s 5ms/step - loss: 3.7752 - val_loss: 4.3224\n",
      "Epoch 27/100\n",
      "8/8 [==============================] - 0s 5ms/step - loss: 3.3408 - val_loss: 3.8508\n",
      "Epoch 28/100\n",
      "8/8 [==============================] - 0s 5ms/step - loss: 3.0632 - val_loss: 3.3687\n",
      "Epoch 29/100\n",
      "8/8 [==============================] - 0s 4ms/step - loss: 2.8401 - val_loss: 3.0666\n",
      "Epoch 30/100\n",
      "8/8 [==============================] - 0s 5ms/step - loss: 2.7450 - val_loss: 2.8565\n",
      "Epoch 31/100\n",
      "8/8 [==============================] - 0s 4ms/step - loss: 2.6244 - val_loss: 2.7757\n",
      "Epoch 32/100\n",
      "8/8 [==============================] - 0s 4ms/step - loss: 2.5779 - val_loss: 2.6911\n",
      "Epoch 33/100\n",
      "8/8 [==============================] - 0s 4ms/step - loss: 2.5347 - val_loss: 2.6450\n",
      "Epoch 34/100\n",
      "8/8 [==============================] - 0s 4ms/step - loss: 2.5204 - val_loss: 2.6528\n",
      "Epoch 35/100\n",
      "8/8 [==============================] - 0s 4ms/step - loss: 2.5097 - val_loss: 2.5820\n",
      "Epoch 36/100\n",
      "8/8 [==============================] - 0s 4ms/step - loss: 2.4958 - val_loss: 2.5351\n",
      "Epoch 37/100\n",
      "8/8 [==============================] - 0s 4ms/step - loss: 2.4919 - val_loss: 2.5179\n",
      "Epoch 38/100\n",
      "8/8 [==============================] - 0s 4ms/step - loss: 2.4843 - val_loss: 2.5159\n",
      "Epoch 39/100\n",
      "8/8 [==============================] - 0s 4ms/step - loss: 2.4841 - val_loss: 2.5106\n",
      "Epoch 40/100\n",
      "8/8 [==============================] - 0s 4ms/step - loss: 2.4688 - val_loss: 2.4937\n",
      "Epoch 41/100\n",
      "8/8 [==============================] - 0s 4ms/step - loss: 2.4671 - val_loss: 2.4911\n",
      "Epoch 42/100\n",
      "8/8 [==============================] - 0s 4ms/step - loss: 2.4747 - val_loss: 2.4968\n",
      "Epoch 43/100\n",
      "8/8 [==============================] - 0s 4ms/step - loss: 2.4666 - val_loss: 2.4777\n",
      "Epoch 44/100\n",
      "8/8 [==============================] - 0s 4ms/step - loss: 2.4714 - val_loss: 2.5338\n",
      "Epoch 45/100\n",
      "8/8 [==============================] - 0s 4ms/step - loss: 2.5032 - val_loss: 2.4789\n",
      "Epoch 46/100\n",
      "8/8 [==============================] - 0s 4ms/step - loss: 2.4830 - val_loss: 2.5248\n",
      "Epoch 47/100\n",
      "8/8 [==============================] - 0s 4ms/step - loss: 2.4762 - val_loss: 2.4844\n",
      "Epoch 48/100\n",
      "8/8 [==============================] - 0s 4ms/step - loss: 2.4742 - val_loss: 2.4922\n",
      "Epoch 49/100\n",
      "8/8 [==============================] - 0s 4ms/step - loss: 2.5089 - val_loss: 2.4909\n",
      "Epoch 50/100\n",
      "8/8 [==============================] - 0s 4ms/step - loss: 2.5059 - val_loss: 2.4950\n",
      "Epoch 51/100\n",
      "8/8 [==============================] - 0s 4ms/step - loss: 2.4642 - val_loss: 2.5008\n",
      "Epoch 52/100\n",
      "8/8 [==============================] - 0s 4ms/step - loss: 2.4769 - val_loss: 2.4705\n",
      "Epoch 53/100\n",
      "8/8 [==============================] - 0s 5ms/step - loss: 2.4955 - val_loss: 2.5154\n",
      "Epoch 54/100\n",
      "8/8 [==============================] - 0s 4ms/step - loss: 2.5007 - val_loss: 2.4707\n",
      "Epoch 55/100\n",
      "8/8 [==============================] - 0s 4ms/step - loss: 2.5018 - val_loss: 2.5420\n",
      "Epoch 56/100\n",
      "8/8 [==============================] - 0s 4ms/step - loss: 2.4746 - val_loss: 2.4804\n",
      "Epoch 57/100\n",
      "8/8 [==============================] - 0s 4ms/step - loss: 2.4725 - val_loss: 2.5356\n",
      "Epoch 58/100\n",
      "8/8 [==============================] - 0s 4ms/step - loss: 2.4854 - val_loss: 2.4838\n",
      "Epoch 59/100\n",
      "8/8 [==============================] - 0s 4ms/step - loss: 2.4734 - val_loss: 2.4679\n",
      "Epoch 60/100\n",
      "8/8 [==============================] - 0s 5ms/step - loss: 2.4708 - val_loss: 2.4840\n",
      "Epoch 61/100\n",
      "8/8 [==============================] - 0s 4ms/step - loss: 2.4817 - val_loss: 2.4525\n",
      "Epoch 62/100\n",
      "8/8 [==============================] - 0s 5ms/step - loss: 2.5186 - val_loss: 2.4709\n",
      "Epoch 63/100\n",
      "8/8 [==============================] - 0s 4ms/step - loss: 2.4759 - val_loss: 2.4721\n",
      "Epoch 64/100\n",
      "8/8 [==============================] - 0s 4ms/step - loss: 2.4929 - val_loss: 2.4520\n",
      "Epoch 65/100\n",
      "8/8 [==============================] - 0s 4ms/step - loss: 2.5015 - val_loss: 2.4705\n",
      "Epoch 66/100\n",
      "8/8 [==============================] - 0s 4ms/step - loss: 2.4674 - val_loss: 2.4501\n",
      "Epoch 67/100\n",
      "8/8 [==============================] - 0s 4ms/step - loss: 2.4735 - val_loss: 2.4693\n",
      "Epoch 68/100\n",
      "8/8 [==============================] - 0s 4ms/step - loss: 2.4686 - val_loss: 2.4856\n",
      "Epoch 69/100\n",
      "8/8 [==============================] - 0s 5ms/step - loss: 2.4703 - val_loss: 2.4766\n",
      "Epoch 70/100\n",
      "8/8 [==============================] - 0s 4ms/step - loss: 2.4754 - val_loss: 2.4728\n",
      "Epoch 71/100\n",
      "8/8 [==============================] - 0s 4ms/step - loss: 2.4676 - val_loss: 2.4614\n",
      "Epoch 72/100\n",
      "8/8 [==============================] - 0s 4ms/step - loss: 2.4769 - val_loss: 2.4742\n",
      "Epoch 73/100\n",
      "8/8 [==============================] - 0s 4ms/step - loss: 2.4846 - val_loss: 2.4916\n",
      "Epoch 74/100\n",
      "8/8 [==============================] - 0s 4ms/step - loss: 2.4898 - val_loss: 2.4603\n",
      "Epoch 75/100\n",
      "8/8 [==============================] - 0s 4ms/step - loss: 2.4931 - val_loss: 2.4735\n",
      "Epoch 76/100\n",
      "8/8 [==============================] - 0s 4ms/step - loss: 2.4982 - val_loss: 2.4895\n",
      "Epoch 77/100\n",
      "8/8 [==============================] - 0s 4ms/step - loss: 2.4749 - val_loss: 2.4573\n",
      "Epoch 78/100\n",
      "8/8 [==============================] - 0s 4ms/step - loss: 2.4693 - val_loss: 2.4970\n",
      "Epoch 79/100\n",
      "8/8 [==============================] - 0s 4ms/step - loss: 2.4882 - val_loss: 2.4640\n",
      "Epoch 80/100\n",
      "8/8 [==============================] - 0s 4ms/step - loss: 2.4745 - val_loss: 2.4744\n",
      "Epoch 81/100\n",
      "8/8 [==============================] - 0s 4ms/step - loss: 2.4686 - val_loss: 2.4848\n",
      "Epoch 82/100\n",
      "8/8 [==============================] - 0s 4ms/step - loss: 2.4676 - val_loss: 2.4477\n",
      "Epoch 83/100\n",
      "8/8 [==============================] - 0s 4ms/step - loss: 2.4824 - val_loss: 2.4639\n",
      "Epoch 84/100\n"
     ]
    },
    {
     "name": "stdout",
     "output_type": "stream",
     "text": [
      "8/8 [==============================] - 0s 4ms/step - loss: 2.4654 - val_loss: 2.4867\n",
      "Epoch 85/100\n",
      "8/8 [==============================] - 0s 4ms/step - loss: 2.4677 - val_loss: 2.4650\n",
      "Epoch 86/100\n",
      "8/8 [==============================] - 0s 4ms/step - loss: 2.4725 - val_loss: 2.4581\n",
      "Epoch 87/100\n",
      "8/8 [==============================] - 0s 5ms/step - loss: 2.4787 - val_loss: 2.4887\n",
      "Epoch 88/100\n",
      "8/8 [==============================] - 0s 4ms/step - loss: 2.4798 - val_loss: 2.4589\n",
      "Epoch 89/100\n",
      "8/8 [==============================] - 0s 4ms/step - loss: 2.4729 - val_loss: 2.4865\n",
      "Epoch 90/100\n",
      "8/8 [==============================] - 0s 4ms/step - loss: 2.4912 - val_loss: 2.4923\n",
      "Epoch 91/100\n",
      "8/8 [==============================] - 0s 4ms/step - loss: 2.4837 - val_loss: 2.4547\n",
      "Epoch 92/100\n",
      "8/8 [==============================] - 0s 4ms/step - loss: 2.4925 - val_loss: 2.5031\n",
      "Epoch 93/100\n",
      "8/8 [==============================] - 0s 4ms/step - loss: 2.4763 - val_loss: 2.4481\n",
      "Epoch 94/100\n",
      "8/8 [==============================] - 0s 4ms/step - loss: 2.5148 - val_loss: 2.4921\n",
      "Epoch 95/100\n",
      "8/8 [==============================] - 0s 4ms/step - loss: 2.4861 - val_loss: 2.4549\n",
      "Epoch 96/100\n",
      "8/8 [==============================] - 0s 4ms/step - loss: 2.4656 - val_loss: 2.5039\n",
      "Epoch 97/100\n",
      "8/8 [==============================] - 0s 4ms/step - loss: 2.4879 - val_loss: 2.4558\n",
      "Epoch 98/100\n",
      "8/8 [==============================] - 0s 4ms/step - loss: 2.4962 - val_loss: 2.5049\n",
      "Epoch 99/100\n",
      "8/8 [==============================] - 0s 4ms/step - loss: 2.5197 - val_loss: 2.4613\n",
      "Epoch 100/100\n",
      "8/8 [==============================] - 0s 4ms/step - loss: 2.5010 - val_loss: 2.4755\n",
      "CPU times: total: 1.12 s\n",
      "Wall time: 3.43 s\n"
     ]
    }
   ],
   "source": [
    "%%time\n",
    "history = linear_model.fit(\n",
    "    train_features,\n",
    "    train_labels,\n",
    "    epochs=100,\n",
    "    verbose=1,\n",
    "    validation_split=0.2,\n",
    "    \n",
    ")"
   ]
  },
  {
   "cell_type": "code",
   "execution_count": 42,
   "id": "11b3243d",
   "metadata": {},
   "outputs": [
    {
     "data": {
      "image/png": "[encoded data removed]",
      "text/plain": [
       "<Figure size 432x288 with 1 Axes>"
      ]
     },
     "metadata": {
      "needs_background": "light"
     },
     "output_type": "display_data"
    }
   ],
   "source": [
    "plot_loss(history)"
   ]
  },
  {
   "cell_type": "code",
   "execution_count": 43,
   "id": "6fa8ea90",
   "metadata": {},
   "outputs": [],
   "source": [
    "test_result['linear_model']  = linear_model.evaluate(\n",
    "    test_features, test_labels, verbose=0\n",
    ")"
   ]
  },
  {
   "cell_type": "markdown",
   "id": "a8723add",
   "metadata": {},
   "source": [
    "# Regression with a deep neural network (DNN)"
   ]
  },
  {
   "cell_type": "code",
   "execution_count": 44,
   "id": "57b5b08f",
   "metadata": {},
   "outputs": [],
   "source": [
    "def build_and_compile_model(norm):\n",
    "    model = keras.Sequential([\n",
    "        norm,\n",
    "        layers.Dense(64, activation='relu'),\n",
    "        layers.Dense(64, activation='relu'),\n",
    "        layers.Dense(1)\n",
    "        \n",
    "    ])\n",
    "    \n",
    "    model.compile(\n",
    "        loss= 'mean_absolute_error',\n",
    "        optimizer = tf.keras.optimizers.Adam(0.001)\n",
    "    )\n",
    "    \n",
    "    return model"
   ]
  },
  {
   "cell_type": "markdown",
   "id": "097fd6ae",
   "metadata": {},
   "source": [
    "Regression using a DNN and a single input"
   ]
  },
  {
   "cell_type": "code",
   "execution_count": 45,
   "id": "6f53dbc3",
   "metadata": {},
   "outputs": [],
   "source": [
    "#Create a DNN model with only 'Horsepower' as input and horsepower_normalizer (defined earlier) as the normalization layer:\n",
    "\n",
    "dnn_horsepower_model = build_and_compile_model(horsepower_normalizer)\n"
   ]
  },
  {
   "cell_type": "code",
   "execution_count": 46,
   "id": "c19a11cf",
   "metadata": {},
   "outputs": [
    {
     "name": "stdout",
     "output_type": "stream",
     "text": [
      "Model: \"sequential_2\"\n",
      "_________________________________________________________________\n",
      " Layer (type)                Output Shape              Param #   \n",
      "=================================================================\n",
      " normalization_1 (Normalizat  (None, 1)                3         \n",
      " ion)                                                            \n",
      "                                                                 \n",
      " dense_2 (Dense)             (None, 64)                128       \n",
      "                                                                 \n",
      " dense_3 (Dense)             (None, 64)                4160      \n",
      "                                                                 \n",
      " dense_4 (Dense)             (None, 1)                 65        \n",
      "                                                                 \n",
      "=================================================================\n",
      "Total params: 4,356\n",
      "Trainable params: 4,353\n",
      "Non-trainable params: 3\n",
      "_________________________________________________________________\n"
     ]
    }
   ],
   "source": [
    "dnn_horsepower_model.summary()"
   ]
  },
  {
   "cell_type": "code",
   "execution_count": 53,
   "id": "7a1af75a",
   "metadata": {},
   "outputs": [
    {
     "name": "stdout",
     "output_type": "stream",
     "text": [
      "Epoch 1/100\n",
      "8/8 [==============================] - 0s 8ms/step - loss: 3.2510 - val_loss: 3.7478\n",
      "Epoch 2/100\n",
      "8/8 [==============================] - 0s 5ms/step - loss: 3.2476 - val_loss: 3.7515\n",
      "Epoch 3/100\n",
      "8/8 [==============================] - 0s 5ms/step - loss: 3.2610 - val_loss: 3.7665\n",
      "Epoch 4/100\n",
      "8/8 [==============================] - 0s 4ms/step - loss: 3.2460 - val_loss: 3.7511\n",
      "Epoch 5/100\n",
      "8/8 [==============================] - 0s 5ms/step - loss: 3.2449 - val_loss: 3.7492\n",
      "Epoch 6/100\n",
      "8/8 [==============================] - 0s 4ms/step - loss: 3.2551 - val_loss: 3.7666\n",
      "Epoch 7/100\n",
      "8/8 [==============================] - 0s 4ms/step - loss: 3.2634 - val_loss: 3.7693\n",
      "Epoch 8/100\n",
      "8/8 [==============================] - 0s 4ms/step - loss: 3.2503 - val_loss: 3.7480\n",
      "Epoch 9/100\n",
      "8/8 [==============================] - 0s 4ms/step - loss: 3.2470 - val_loss: 3.7589\n",
      "Epoch 10/100\n",
      "8/8 [==============================] - 0s 4ms/step - loss: 3.2465 - val_loss: 3.7588\n",
      "Epoch 11/100\n",
      "8/8 [==============================] - 0s 5ms/step - loss: 3.2441 - val_loss: 3.7535\n",
      "Epoch 12/100\n",
      "8/8 [==============================] - 0s 4ms/step - loss: 3.2472 - val_loss: 3.7632\n",
      "Epoch 13/100\n",
      "8/8 [==============================] - 0s 5ms/step - loss: 3.2451 - val_loss: 3.7587\n",
      "Epoch 14/100\n",
      "8/8 [==============================] - 0s 4ms/step - loss: 3.2441 - val_loss: 3.7599\n",
      "Epoch 15/100\n",
      "8/8 [==============================] - 0s 4ms/step - loss: 3.2519 - val_loss: 3.7654\n",
      "Epoch 16/100\n",
      "8/8 [==============================] - 0s 5ms/step - loss: 3.2421 - val_loss: 3.7557\n",
      "Epoch 17/100\n",
      "8/8 [==============================] - 0s 4ms/step - loss: 3.2513 - val_loss: 3.7650\n",
      "Epoch 18/100\n",
      "8/8 [==============================] - 0s 4ms/step - loss: 3.2447 - val_loss: 3.7628\n",
      "Epoch 19/100\n",
      "8/8 [==============================] - 0s 4ms/step - loss: 3.2411 - val_loss: 3.7643\n",
      "Epoch 20/100\n",
      "8/8 [==============================] - 0s 4ms/step - loss: 3.2403 - val_loss: 3.7651\n",
      "Epoch 21/100\n",
      "8/8 [==============================] - 0s 5ms/step - loss: 3.2387 - val_loss: 3.7638\n",
      "Epoch 22/100\n",
      "8/8 [==============================] - 0s 5ms/step - loss: 3.2444 - val_loss: 3.7664\n",
      "Epoch 23/100\n",
      "8/8 [==============================] - 0s 4ms/step - loss: 3.2661 - val_loss: 3.7746\n",
      "Epoch 24/100\n",
      "8/8 [==============================] - 0s 4ms/step - loss: 3.2494 - val_loss: 3.7467\n",
      "Epoch 25/100\n",
      "8/8 [==============================] - 0s 4ms/step - loss: 3.2438 - val_loss: 3.7532\n",
      "Epoch 26/100\n",
      "8/8 [==============================] - 0s 4ms/step - loss: 3.2388 - val_loss: 3.7626\n",
      "Epoch 27/100\n",
      "8/8 [==============================] - 0s 4ms/step - loss: 3.2396 - val_loss: 3.7799\n",
      "Epoch 28/100\n",
      "8/8 [==============================] - 0s 5ms/step - loss: 3.2480 - val_loss: 3.7850\n",
      "Epoch 29/100\n",
      "8/8 [==============================] - 0s 4ms/step - loss: 3.2363 - val_loss: 3.7701\n",
      "Epoch 30/100\n",
      "8/8 [==============================] - 0s 5ms/step - loss: 3.2454 - val_loss: 3.7770\n",
      "Epoch 31/100\n",
      "8/8 [==============================] - 0s 5ms/step - loss: 3.2423 - val_loss: 3.7671\n",
      "Epoch 32/100\n",
      "8/8 [==============================] - 0s 5ms/step - loss: 3.2349 - val_loss: 3.7630\n",
      "Epoch 33/100\n",
      "8/8 [==============================] - 0s 5ms/step - loss: 3.2401 - val_loss: 3.7656\n",
      "Epoch 34/100\n",
      "8/8 [==============================] - 0s 4ms/step - loss: 3.2376 - val_loss: 3.7867\n",
      "Epoch 35/100\n",
      "8/8 [==============================] - 0s 4ms/step - loss: 3.2409 - val_loss: 3.7772\n",
      "Epoch 36/100\n",
      "8/8 [==============================] - 0s 4ms/step - loss: 3.2399 - val_loss: 3.7622\n",
      "Epoch 37/100\n",
      "8/8 [==============================] - 0s 4ms/step - loss: 3.2642 - val_loss: 3.7583\n",
      "Epoch 38/100\n",
      "8/8 [==============================] - 0s 4ms/step - loss: 3.2340 - val_loss: 3.7788\n",
      "Epoch 39/100\n",
      "8/8 [==============================] - 0s 4ms/step - loss: 3.2365 - val_loss: 3.7749\n",
      "Epoch 40/100\n",
      "8/8 [==============================] - 0s 5ms/step - loss: 3.2343 - val_loss: 3.7660\n",
      "Epoch 41/100\n",
      "8/8 [==============================] - 0s 5ms/step - loss: 3.2406 - val_loss: 3.7718\n",
      "Epoch 42/100\n",
      "8/8 [==============================] - 0s 4ms/step - loss: 3.2294 - val_loss: 3.7792\n",
      "Epoch 43/100\n",
      "8/8 [==============================] - 0s 4ms/step - loss: 3.2434 - val_loss: 3.7695\n",
      "Epoch 44/100\n",
      "8/8 [==============================] - 0s 4ms/step - loss: 3.2333 - val_loss: 3.7607\n",
      "Epoch 45/100\n",
      "8/8 [==============================] - 0s 4ms/step - loss: 3.2316 - val_loss: 3.7596\n",
      "Epoch 46/100\n",
      "8/8 [==============================] - 0s 5ms/step - loss: 3.2306 - val_loss: 3.7671\n",
      "Epoch 47/100\n",
      "8/8 [==============================] - 0s 5ms/step - loss: 3.2278 - val_loss: 3.7798\n",
      "Epoch 48/100\n",
      "8/8 [==============================] - 0s 4ms/step - loss: 3.2383 - val_loss: 3.7898\n",
      "Epoch 49/100\n",
      "8/8 [==============================] - 0s 6ms/step - loss: 3.2362 - val_loss: 3.7615\n",
      "Epoch 50/100\n",
      "8/8 [==============================] - 0s 5ms/step - loss: 3.2316 - val_loss: 3.7704\n",
      "Epoch 51/100\n",
      "8/8 [==============================] - 0s 5ms/step - loss: 3.2319 - val_loss: 3.7800\n",
      "Epoch 52/100\n",
      "8/8 [==============================] - 0s 4ms/step - loss: 3.2280 - val_loss: 3.7831\n",
      "Epoch 53/100\n",
      "8/8 [==============================] - 0s 4ms/step - loss: 3.2334 - val_loss: 3.7796\n",
      "Epoch 54/100\n",
      "8/8 [==============================] - 0s 4ms/step - loss: 3.2288 - val_loss: 3.7677\n",
      "Epoch 55/100\n",
      "8/8 [==============================] - 0s 5ms/step - loss: 3.2278 - val_loss: 3.7698\n",
      "Epoch 56/100\n",
      "8/8 [==============================] - 0s 5ms/step - loss: 3.2261 - val_loss: 3.7752\n",
      "Epoch 57/100\n",
      "8/8 [==============================] - 0s 4ms/step - loss: 3.2418 - val_loss: 3.7942\n",
      "Epoch 58/100\n",
      "8/8 [==============================] - 0s 5ms/step - loss: 3.2305 - val_loss: 3.7761\n",
      "Epoch 59/100\n",
      "8/8 [==============================] - 0s 4ms/step - loss: 3.2333 - val_loss: 3.7797\n",
      "Epoch 60/100\n",
      "8/8 [==============================] - 0s 4ms/step - loss: 3.2358 - val_loss: 3.7889\n",
      "Epoch 61/100\n",
      "8/8 [==============================] - 0s 4ms/step - loss: 3.2478 - val_loss: 3.7637\n",
      "Epoch 62/100\n",
      "8/8 [==============================] - 0s 4ms/step - loss: 3.2324 - val_loss: 3.7754\n",
      "Epoch 63/100\n",
      "8/8 [==============================] - 0s 5ms/step - loss: 3.2302 - val_loss: 3.7935\n",
      "Epoch 64/100\n",
      "8/8 [==============================] - 0s 4ms/step - loss: 3.2262 - val_loss: 3.7851\n",
      "Epoch 65/100\n",
      "8/8 [==============================] - 0s 4ms/step - loss: 3.2217 - val_loss: 3.7867\n",
      "Epoch 66/100\n",
      "8/8 [==============================] - 0s 4ms/step - loss: 3.2242 - val_loss: 3.7796\n",
      "Epoch 67/100\n",
      "8/8 [==============================] - 0s 4ms/step - loss: 3.2236 - val_loss: 3.7914\n",
      "Epoch 68/100\n",
      "8/8 [==============================] - 0s 5ms/step - loss: 3.2227 - val_loss: 3.7846\n",
      "Epoch 69/100\n",
      "8/8 [==============================] - 0s 4ms/step - loss: 3.2166 - val_loss: 3.7903\n",
      "Epoch 70/100\n",
      "8/8 [==============================] - 0s 4ms/step - loss: 3.2211 - val_loss: 3.7790\n",
      "Epoch 71/100\n",
      "8/8 [==============================] - 0s 5ms/step - loss: 3.2161 - val_loss: 3.7804\n",
      "Epoch 72/100\n",
      "8/8 [==============================] - 0s 5ms/step - loss: 3.2162 - val_loss: 3.7853\n",
      "Epoch 73/100\n",
      "8/8 [==============================] - 0s 4ms/step - loss: 3.2441 - val_loss: 3.7640\n",
      "Epoch 74/100\n",
      "8/8 [==============================] - 0s 4ms/step - loss: 3.2146 - val_loss: 3.7897\n",
      "Epoch 75/100\n",
      "8/8 [==============================] - 0s 4ms/step - loss: 3.2215 - val_loss: 3.7901\n",
      "Epoch 76/100\n",
      "8/8 [==============================] - 0s 5ms/step - loss: 3.2173 - val_loss: 3.7886\n",
      "Epoch 77/100\n",
      "8/8 [==============================] - 0s 4ms/step - loss: 3.2401 - val_loss: 3.7701\n",
      "Epoch 78/100\n",
      "8/8 [==============================] - 0s 4ms/step - loss: 3.2306 - val_loss: 3.7978\n",
      "Epoch 79/100\n",
      "8/8 [==============================] - 0s 5ms/step - loss: 3.2304 - val_loss: 3.7733\n",
      "Epoch 80/100\n",
      "8/8 [==============================] - 0s 4ms/step - loss: 3.2248 - val_loss: 3.7726\n",
      "Epoch 81/100\n",
      "8/8 [==============================] - 0s 5ms/step - loss: 3.2133 - val_loss: 3.7850\n",
      "Epoch 82/100\n",
      "8/8 [==============================] - 0s 4ms/step - loss: 3.2188 - val_loss: 3.7873\n",
      "Epoch 83/100\n",
      "8/8 [==============================] - 0s 4ms/step - loss: 3.2123 - val_loss: 3.7806\n",
      "Epoch 84/100\n"
     ]
    },
    {
     "name": "stdout",
     "output_type": "stream",
     "text": [
      "8/8 [==============================] - 0s 4ms/step - loss: 3.2144 - val_loss: 3.7840\n",
      "Epoch 85/100\n",
      "8/8 [==============================] - 0s 6ms/step - loss: 3.2174 - val_loss: 3.7870\n",
      "Epoch 86/100\n",
      "8/8 [==============================] - 0s 4ms/step - loss: 3.2076 - val_loss: 3.7809\n",
      "Epoch 87/100\n",
      "8/8 [==============================] - 0s 4ms/step - loss: 3.2100 - val_loss: 3.7795\n",
      "Epoch 88/100\n",
      "8/8 [==============================] - 0s 4ms/step - loss: 3.2103 - val_loss: 3.7898\n",
      "Epoch 89/100\n",
      "8/8 [==============================] - 0s 4ms/step - loss: 3.2167 - val_loss: 3.7724\n",
      "Epoch 90/100\n",
      "8/8 [==============================] - 0s 4ms/step - loss: 3.2156 - val_loss: 3.7848\n",
      "Epoch 91/100\n",
      "8/8 [==============================] - 0s 5ms/step - loss: 3.2041 - val_loss: 3.7777\n",
      "Epoch 92/100\n",
      "8/8 [==============================] - 0s 4ms/step - loss: 3.2151 - val_loss: 3.7756\n",
      "Epoch 93/100\n",
      "8/8 [==============================] - 0s 4ms/step - loss: 3.2244 - val_loss: 3.7878\n",
      "Epoch 94/100\n",
      "8/8 [==============================] - 0s 4ms/step - loss: 3.2034 - val_loss: 3.7720\n",
      "Epoch 95/100\n",
      "8/8 [==============================] - 0s 4ms/step - loss: 3.2074 - val_loss: 3.7694\n",
      "Epoch 96/100\n",
      "8/8 [==============================] - 0s 4ms/step - loss: 3.2133 - val_loss: 3.7966\n",
      "Epoch 97/100\n",
      "8/8 [==============================] - 0s 4ms/step - loss: 3.2133 - val_loss: 3.7655\n",
      "Epoch 98/100\n",
      "8/8 [==============================] - 0s 4ms/step - loss: 3.2108 - val_loss: 3.7741\n",
      "Epoch 99/100\n",
      "8/8 [==============================] - 0s 4ms/step - loss: 3.2076 - val_loss: 3.7843\n",
      "Epoch 100/100\n",
      "8/8 [==============================] - 0s 4ms/step - loss: 3.2007 - val_loss: 3.7810\n",
      "CPU times: total: 1.19 s\n",
      "Wall time: 3.43 s\n"
     ]
    }
   ],
   "source": [
    "%%time\n",
    "history = dnn_horsepower_model.fit(\n",
    "    train_features['Horsepower'],\n",
    "    train_labels,\n",
    "    validation_split=0.2,\n",
    "    verbose=1,\n",
    "    epochs=100)"
   ]
  },
  {
   "cell_type": "code",
   "execution_count": 54,
   "id": "e31a9d9f",
   "metadata": {},
   "outputs": [
    {
     "data": {
      "image/png": "[encoded data removed]",
      "text/plain": [
       "<Figure size 432x288 with 1 Axes>"
      ]
     },
     "metadata": {
      "needs_background": "light"
     },
     "output_type": "display_data"
    }
   ],
   "source": [
    "plot_loss(history)"
   ]
  },
  {
   "cell_type": "code",
   "execution_count": 55,
   "id": "06adfd34",
   "metadata": {},
   "outputs": [
    {
     "name": "stdout",
     "output_type": "stream",
     "text": [
      "8/8 [==============================] - 0s 644us/step\n"
     ]
    }
   ],
   "source": [
    "#If you plot the predictions as a function of 'Horsepower', you should notice how this model takes advantage of the nonlinearity provided by the hidden layers:\n",
    "x = tf.linspace(0.0, 250, 251)\n",
    "y = dnn_horsepower_model.predict(x)"
   ]
  },
  {
   "cell_type": "code",
   "execution_count": 56,
   "id": "ebed9d2c",
   "metadata": {},
   "outputs": [
    {
     "data": {
      "image/png": "[encoded data removed]",
      "text/plain": [
       "<Figure size 432x288 with 1 Axes>"
      ]
     },
     "metadata": {
      "needs_background": "light"
     },
     "output_type": "display_data"
    }
   ],
   "source": [
    "plot_horsepower(x,y)"
   ]
  },
  {
   "cell_type": "code",
   "execution_count": 58,
   "id": "2907eefe",
   "metadata": {},
   "outputs": [],
   "source": [
    "test_result['dnn_horsepower_model'] = dnn_horsepower_model.evaluate(\n",
    "test_features['Horsepower'],test_labels, verbose=0\n",
    ")"
   ]
  },
  {
   "cell_type": "code",
   "execution_count": 59,
   "id": "c825b1bb",
   "metadata": {},
   "outputs": [
    {
     "data": {
      "text/plain": [
       "{'horsepower_model': 3.6423566341400146,\n",
       " 'linear_model': 2.522246837615967,\n",
       " 'dnn_horsepower_model': 2.8547303676605225}"
      ]
     },
     "execution_count": 59,
     "metadata": {},
     "output_type": "execute_result"
    }
   ],
   "source": [
    "test_result"
   ]
  },
  {
   "cell_type": "markdown",
   "id": "7c68572d",
   "metadata": {},
   "source": [
    "Regression using a DNN and multiple inputs"
   ]
  },
  {
   "cell_type": "code",
   "execution_count": 64,
   "id": "508d5e67",
   "metadata": {},
   "outputs": [
    {
     "name": "stdout",
     "output_type": "stream",
     "text": [
      "Model: \"sequential_3\"\n",
      "_________________________________________________________________\n",
      " Layer (type)                Output Shape              Param #   \n",
      "=================================================================\n",
      " normalization (Normalizatio  (None, 9)                19        \n",
      " n)                                                              \n",
      "                                                                 \n",
      " dense_5 (Dense)             (None, 64)                640       \n",
      "                                                                 \n",
      " dense_6 (Dense)             (None, 64)                4160      \n",
      "                                                                 \n",
      " dense_7 (Dense)             (None, 1)                 65        \n",
      "                                                                 \n",
      "=================================================================\n",
      "Total params: 4,884\n",
      "Trainable params: 4,865\n",
      "Non-trainable params: 19\n",
      "_________________________________________________________________\n"
     ]
    }
   ],
   "source": [
    "dnn_model = build_and_compile_model(normalizer)\n",
    "dnn_model.summary()"
   ]
  },
  {
   "cell_type": "markdown",
   "id": "771499a3",
   "metadata": {},
   "source": [
    "# %%time\n",
    "history = dnn_model.fit(\n",
    "    train_features,\n",
    "    train_labels,\n",
    "    verbose=1,\n",
    "    epochs=100,\n",
    "    validation_split=0.2\n",
    "    \n",
    ")"
   ]
  },
  {
   "cell_type": "code",
   "execution_count": 66,
   "id": "9dbcd3c3",
   "metadata": {},
   "outputs": [
    {
     "data": {
      "image/png": "[encoded data removed]",
      "text/plain": [
       "<Figure size 432x288 with 1 Axes>"
      ]
     },
     "metadata": {
      "needs_background": "light"
     },
     "output_type": "display_data"
    }
   ],
   "source": [
    "plot_loss(history)"
   ]
  },
  {
   "cell_type": "code",
   "execution_count": 68,
   "id": "5631d9aa",
   "metadata": {},
   "outputs": [],
   "source": [
    "test_result['dnn_model'] = dnn_model.evaluate(test_features, test_labels, verbose=0)"
   ]
  },
  {
   "cell_type": "markdown",
   "id": "54ed4a7e",
   "metadata": {},
   "source": [
    "# Performance"
   ]
  },
  {
   "cell_type": "code",
   "execution_count": 71,
   "id": "1f864884",
   "metadata": {},
   "outputs": [
    {
     "data": {
      "text/html": [
       "<div>\n",
       "<style scoped>\n",
       "    .dataframe tbody tr th:only-of-type {\n",
       "        vertical-align: middle;\n",
       "    }\n",
       "\n",
       "    .dataframe tbody tr th {\n",
       "        vertical-align: top;\n",
       "    }\n",
       "\n",
       "    .dataframe thead th {\n",
       "        text-align: right;\n",
       "    }\n",
       "</style>\n",
       "<table border=\"1\" class=\"dataframe\">\n",
       "  <thead>\n",
       "    <tr style=\"text-align: right;\">\n",
       "      <th></th>\n",
       "      <th>Mean absolute error[MPG]</th>\n",
       "    </tr>\n",
       "  </thead>\n",
       "  <tbody>\n",
       "    <tr>\n",
       "      <th>horsepower_model</th>\n",
       "      <td>3.642357</td>\n",
       "    </tr>\n",
       "    <tr>\n",
       "      <th>linear_model</th>\n",
       "      <td>2.522247</td>\n",
       "    </tr>\n",
       "    <tr>\n",
       "      <th>dnn_horsepower_model</th>\n",
       "      <td>2.854730</td>\n",
       "    </tr>\n",
       "    <tr>\n",
       "      <th>dnn_model</th>\n",
       "      <td>1.653051</td>\n",
       "    </tr>\n",
       "  </tbody>\n",
       "</table>\n",
       "</div>"
      ],
      "text/plain": [
       "                      Mean absolute error[MPG]\n",
       "horsepower_model                      3.642357\n",
       "linear_model                          2.522247\n",
       "dnn_horsepower_model                  2.854730\n",
       "dnn_model                             1.653051"
      ]
     },
     "execution_count": 71,
     "metadata": {},
     "output_type": "execute_result"
    }
   ],
   "source": [
    "pd.DataFrame(test_result, index=[\"Mean absolute error[MPG]\"]).T"
   ]
  },
  {
   "cell_type": "code",
   "execution_count": 72,
   "id": "047625d8",
   "metadata": {},
   "outputs": [
    {
     "name": "stdout",
     "output_type": "stream",
     "text": [
      "3/3 [==============================] - 0s 1ms/step\n"
     ]
    },
    {
     "data": {
      "image/png": "[encoded data removed]",
      "text/plain": [
       "<Figure size 432x288 with 1 Axes>"
      ]
     },
     "metadata": {
      "needs_background": "light"
     },
     "output_type": "display_data"
    }
   ],
   "source": [
    "test_predictions = dnn_model.predict(test_features).flatten()\n",
    "\n",
    "a = plt.axes(aspect='equal')\n",
    "plt.scatter(test_labels, test_predictions)\n",
    "plt.xlabel('True Values [MPG]')\n",
    "plt.ylabel('Predictions [MPG]')\n",
    "lims = [0, 50]\n",
    "plt.xlim(lims)\n",
    "plt.ylim(lims)\n",
    "_ = plt.plot(lims, lims)"
   ]
  },
  {
   "cell_type": "code",
   "execution_count": 73,
   "id": "ced3666d",
   "metadata": {},
   "outputs": [
    {
     "data": {
      "image/png": "[encoded data removed]",
      "text/plain": [
       "<Figure size 432x288 with 1 Axes>"
      ]
     },
     "metadata": {
      "needs_background": "light"
     },
     "output_type": "display_data"
    }
   ],
   "source": [
    "error = test_predictions - test_labels\n",
    "plt.hist(error, bins=25)\n",
    "plt.xlabel('Prediction Error [MPG]')\n",
    "_ = plt.ylabel('Count')"
   ]
  },
  {
   "cell_type": "code",
   "execution_count": 74,
   "id": "0d6f45d1",
   "metadata": {},
   "outputs": [
    {
     "name": "stdout",
     "output_type": "stream",
     "text": [
      "INFO:tensorflow:Assets written to: dnn_model\\assets\n"
     ]
    }
   ],
   "source": [
    "#Model save\n",
    "dnn_model.save('dnn_model')"
   ]
  },
  {
   "cell_type": "code",
   "execution_count": 77,
   "id": "083516d0",
   "metadata": {},
   "outputs": [],
   "source": [
    "#If you reload the model, it gives identical output:\n",
    "\n",
    "reloaded = tf.keras.models.load_model('dnn_model')\n",
    "test_result['reloaded'] = reloaded.evaluate(\n",
    "    test_features, test_labels, verbose=0\n",
    ")"
   ]
  },
  {
   "cell_type": "code",
   "execution_count": 79,
   "id": "0ccbd78d",
   "metadata": {},
   "outputs": [
    {
     "data": {
      "text/html": [
       "<div>\n",
       "<style scoped>\n",
       "    .dataframe tbody tr th:only-of-type {\n",
       "        vertical-align: middle;\n",
       "    }\n",
       "\n",
       "    .dataframe tbody tr th {\n",
       "        vertical-align: top;\n",
       "    }\n",
       "\n",
       "    .dataframe thead th {\n",
       "        text-align: right;\n",
       "    }\n",
       "</style>\n",
       "<table border=\"1\" class=\"dataframe\">\n",
       "  <thead>\n",
       "    <tr style=\"text-align: right;\">\n",
       "      <th></th>\n",
       "      <th>Mean absolute error [MPG]</th>\n",
       "    </tr>\n",
       "  </thead>\n",
       "  <tbody>\n",
       "    <tr>\n",
       "      <th>horsepower_model</th>\n",
       "      <td>3.642357</td>\n",
       "    </tr>\n",
       "    <tr>\n",
       "      <th>linear_model</th>\n",
       "      <td>2.522247</td>\n",
       "    </tr>\n",
       "    <tr>\n",
       "      <th>dnn_horsepower_model</th>\n",
       "      <td>2.854730</td>\n",
       "    </tr>\n",
       "    <tr>\n",
       "      <th>dnn_model</th>\n",
       "      <td>1.653051</td>\n",
       "    </tr>\n",
       "    <tr>\n",
       "      <th>reloaded</th>\n",
       "      <td>1.653051</td>\n",
       "    </tr>\n",
       "  </tbody>\n",
       "</table>\n",
       "</div>"
      ],
      "text/plain": [
       "                      Mean absolute error [MPG]\n",
       "horsepower_model                       3.642357\n",
       "linear_model                           2.522247\n",
       "dnn_horsepower_model                   2.854730\n",
       "dnn_model                              1.653051\n",
       "reloaded                               1.653051"
      ]
     },
     "execution_count": 79,
     "metadata": {},
     "output_type": "execute_result"
    }
   ],
   "source": [
    "pd.DataFrame(test_result, index=['Mean absolute error [MPG]']).T"
   ]
  },
  {
   "cell_type": "code",
   "execution_count": null,
   "id": "6bad9af0",
   "metadata": {},
   "outputs": [],
   "source": []
  }
 ],
 "metadata": {
  "kernelspec": {
   "display_name": "Python 3 (ipykernel)",
   "language": "python",
   "name": "python3"
  },
  "language_info": {
   "codemirror_mode": {
    "name": "ipython",
    "version": 3
   },
   "file_extension": ".py",
   "mimetype": "text/x-python",
   "name": "python",
   "nbconvert_exporter": "python",
   "pygments_lexer": "ipython3",
   "version": "3.9.12"
  }
 },
 "nbformat": 4,
 "nbformat_minor": 5
}
