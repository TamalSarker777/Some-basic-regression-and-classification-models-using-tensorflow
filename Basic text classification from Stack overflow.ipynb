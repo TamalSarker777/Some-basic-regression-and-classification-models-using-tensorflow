{
 "cells": [
  {
   "cell_type": "code",
   "execution_count": 1,
   "id": "8d290296",
   "metadata": {},
   "outputs": [],
   "source": [
    "import matplotlib.pyplot as plt\n",
    "import os\n",
    "import re\n",
    "import shutil\n",
    "import string\n",
    "import tensorflow as tf\n",
    "from tensorflow.keras import layers \n",
    "from tensorflow.keras import losses"
   ]
  },
  {
   "cell_type": "code",
   "execution_count": 2,
   "id": "68c65d1d",
   "metadata": {},
   "outputs": [],
   "source": [
    "dataset_dir = os.path.join(\"C:/Users/Admin/Desktop/TensorFlow/stack_overflow_16k\")"
   ]
  },
  {
   "cell_type": "code",
   "execution_count": 3,
   "id": "5121388c",
   "metadata": {},
   "outputs": [
    {
     "data": {
      "text/plain": [
       "['README.md', 'test', 'train']"
      ]
     },
     "execution_count": 3,
     "metadata": {},
     "output_type": "execute_result"
    }
   ],
   "source": [
    "os.listdir(dataset_dir)"
   ]
  },
  {
   "cell_type": "code",
   "execution_count": 4,
   "id": "5837cd38",
   "metadata": {},
   "outputs": [
    {
     "data": {
      "text/plain": [
       "['csharp', 'java', 'javascript', 'python']"
      ]
     },
     "execution_count": 4,
     "metadata": {},
     "output_type": "execute_result"
    }
   ],
   "source": [
    "train_dir = os.path.join(dataset_dir, 'train')\n",
    "os.listdir(train_dir)"
   ]
  },
  {
   "cell_type": "code",
   "execution_count": 5,
   "id": "35e98fe7",
   "metadata": {},
   "outputs": [],
   "source": [
    "# simple_file = os.path.join(train_dir,'python/1.txt')\n",
    "\n",
    "# with open(simple_file) as f:\n",
    "#     print(f.read())"
   ]
  },
  {
   "cell_type": "code",
   "execution_count": 6,
   "id": "5afdf40b",
   "metadata": {},
   "outputs": [
    {
     "name": "stdout",
     "output_type": "stream",
     "text": [
      "Found 8000 files belonging to 4 classes.\n",
      "Using 6400 files for training.\n"
     ]
    }
   ],
   "source": [
    "raw_train_ds = tf.keras.utils.text_dataset_from_directory(\n",
    "    \"C:/Users/Admin/Desktop/TensorFlow/stack_overflow_16k/train\",\n",
    "    validation_split=0.2,\n",
    "    subset=\"training\",\n",
    "    batch_size=32,\n",
    "    seed=42\n",
    ")"
   ]
  },
  {
   "cell_type": "code",
   "execution_count": 7,
   "id": "fa7dfb01",
   "metadata": {},
   "outputs": [],
   "source": [
    "# for text_batch, label_batch in raw_train_ds.take(1):\n",
    "#     for i in range(2):\n",
    "#         print(\"Review: \",text_batch.numpy()[i])\n",
    "#         print(\"Label: \",label_batch.numpy()[i])"
   ]
  },
  {
   "cell_type": "code",
   "execution_count": 8,
   "id": "7d1125cc",
   "metadata": {},
   "outputs": [],
   "source": [
    "# print(\"label 0 name: \", raw_train_ds.class_names[0])\n",
    "# print(\"label 1 name: \", raw_train_ds.class_names[1])\n",
    "# print(\"label 2 name: \", raw_train_ds.class_names[2])\n",
    "# print(\"label 3 name: \", raw_train_ds.class_names[3])"
   ]
  },
  {
   "cell_type": "code",
   "execution_count": 9,
   "id": "262189d8",
   "metadata": {},
   "outputs": [
    {
     "name": "stdout",
     "output_type": "stream",
     "text": [
      "Found 8000 files belonging to 4 classes.\n",
      "Using 1600 files for validation.\n"
     ]
    }
   ],
   "source": [
    "raw_val_ds = tf.keras.utils.text_dataset_from_directory(\n",
    "    \"C:/Users/Admin/Desktop/TensorFlow/stack_overflow_16k/train\",\n",
    "    validation_split=0.2,\n",
    "    subset=\"validation\",\n",
    "    batch_size=32,\n",
    "    seed=42\n",
    "\n",
    ")"
   ]
  },
  {
   "cell_type": "code",
   "execution_count": 10,
   "id": "655df07c",
   "metadata": {},
   "outputs": [
    {
     "name": "stdout",
     "output_type": "stream",
     "text": [
      "Found 8000 files belonging to 4 classes.\n"
     ]
    }
   ],
   "source": [
    "raw_test_ds = tf.keras.utils.text_dataset_from_directory(\n",
    "    \"C:/Users/Admin/Desktop/TensorFlow/stack_overflow_16k/train\",\n",
    "    batch_size=32\n",
    ")"
   ]
  },
  {
   "cell_type": "code",
   "execution_count": 11,
   "id": "f80492d9",
   "metadata": {},
   "outputs": [],
   "source": [
    "def custom_standarization(input):\n",
    "    lowercase = tf.strings.lower(input)\n",
    "    stripped_html = tf.strings.regex_replace(lowercase, '<br />', ' ')\n",
    "    return tf.strings.regex_replace(stripped_html,'[%s]' % re.escape(string.punctuation),'')"
   ]
  },
  {
   "cell_type": "code",
   "execution_count": 12,
   "id": "22994d39",
   "metadata": {},
   "outputs": [],
   "source": [
    "max_feature = 10000\n",
    "sequence_length = 250\n",
    "\n",
    "vectorize_layer = layers.TextVectorization(\n",
    "    standardize=custom_standarization,\n",
    "    max_tokens = max_feature,\n",
    "    output_sequence_length=sequence_length,\n",
    "    output_mode='int'\n",
    ")"
   ]
  },
  {
   "cell_type": "code",
   "execution_count": 13,
   "id": "aa644a1d",
   "metadata": {},
   "outputs": [],
   "source": [
    "train_text = raw_train_ds.map(lambda x, y:x)\n",
    "vectorize_layer.adapt(train_text)\n"
   ]
  },
  {
   "cell_type": "code",
   "execution_count": 14,
   "id": "caa98cab",
   "metadata": {},
   "outputs": [],
   "source": [
    "def vectorize_text(text, label):\n",
    "    text = tf.expand_dims(text, -1)\n",
    "    return vectorize_layer(text), label"
   ]
  },
  {
   "cell_type": "code",
   "execution_count": 15,
   "id": "7d14435f",
   "metadata": {},
   "outputs": [],
   "source": [
    "# text_batch, label_batch = next(iter(raw_train_ds))\n",
    "# first_review, first_label = text_batch[0], label_batch[0]\n",
    "# raw_train_ds.class_names[first_label]"
   ]
  },
  {
   "cell_type": "code",
   "execution_count": 16,
   "id": "02a9d7eb",
   "metadata": {},
   "outputs": [],
   "source": [
    "train_dir = raw_train_ds.map(vectorize_text)\n",
    "val_dir = raw_val_ds.map(vectorize_text)\n",
    "test_dir = raw_test_ds.map(vectorize_text)"
   ]
  },
  {
   "cell_type": "code",
   "execution_count": 17,
   "id": "c0724e5e",
   "metadata": {},
   "outputs": [],
   "source": [
    "AUTOTUNE = tf.data.AUTOTUNE\n",
    "\n",
    "train_ds = train_dir.cache().prefetch(buffer_size=AUTOTUNE)\n",
    "test_ds = test_dir.cache().prefetch(buffer_size=AUTOTUNE)\n",
    "val_ds = val_dir.cache().prefetch(buffer_size=AUTOTUNE)"
   ]
  },
  {
   "cell_type": "code",
   "execution_count": 18,
   "id": "9b6b9c1e",
   "metadata": {},
   "outputs": [
    {
     "name": "stdout",
     "output_type": "stream",
     "text": [
      "Model: \"sequential\"\n",
      "_________________________________________________________________\n",
      " Layer (type)                Output Shape              Param #   \n",
      "=================================================================\n",
      " embedding (Embedding)       (None, None, 16)          160016    \n",
      "                                                                 \n",
      " dropout (Dropout)           (None, None, 16)          0         \n",
      "                                                                 \n",
      " global_average_pooling1d (G  (None, 16)               0         \n",
      " lobalAveragePooling1D)                                          \n",
      "                                                                 \n",
      " dropout_1 (Dropout)         (None, 16)                0         \n",
      "                                                                 \n",
      " dense (Dense)               (None, 4)                 68        \n",
      "                                                                 \n",
      "=================================================================\n",
      "Total params: 160,084\n",
      "Trainable params: 160,084\n",
      "Non-trainable params: 0\n",
      "_________________________________________________________________\n"
     ]
    }
   ],
   "source": [
    "embedding_dim = 16\n",
    "\n",
    "model = tf.keras.Sequential([\n",
    "    layers.Embedding(max_feature + 1, embedding_dim),\n",
    "    layers.Dropout(0.2),\n",
    "    layers.GlobalAveragePooling1D(),\n",
    "    layers.Dropout(0.2),\n",
    "    layers.Dense(4)\n",
    "])\n",
    "model.summary()"
   ]
  },
  {
   "cell_type": "code",
   "execution_count": 19,
   "id": "1004adc2",
   "metadata": {},
   "outputs": [],
   "source": [
    "model.compile(\n",
    "    loss=tf.keras.losses.SparseCategoricalCrossentropy(from_logits=True),\n",
    "    optimizer = 'adam',\n",
    "    metrics = ['accuracy']\n",
    ")"
   ]
  },
  {
   "cell_type": "code",
   "execution_count": 20,
   "id": "cb08a9cd",
   "metadata": {},
   "outputs": [
    {
     "name": "stdout",
     "output_type": "stream",
     "text": [
      "Epoch 1/10\n",
      "200/200 [==============================] - 2s 8ms/step - loss: 1.3788 - accuracy: 0.3562 - val_loss: 1.3679 - val_accuracy: 0.5000\n",
      "Epoch 2/10\n",
      "200/200 [==============================] - 0s 2ms/step - loss: 1.3502 - accuracy: 0.4836 - val_loss: 1.3292 - val_accuracy: 0.5469\n",
      "Epoch 3/10\n",
      "200/200 [==============================] - 0s 2ms/step - loss: 1.2976 - accuracy: 0.5384 - val_loss: 1.2683 - val_accuracy: 0.5956\n",
      "Epoch 4/10\n",
      "200/200 [==============================] - 0s 2ms/step - loss: 1.2297 - accuracy: 0.5783 - val_loss: 1.1983 - val_accuracy: 0.6162\n",
      "Epoch 5/10\n",
      "200/200 [==============================] - 1s 3ms/step - loss: 1.1567 - accuracy: 0.6111 - val_loss: 1.1290 - val_accuracy: 0.6500\n",
      "Epoch 6/10\n",
      "200/200 [==============================] - 1s 3ms/step - loss: 1.0877 - accuracy: 0.6508 - val_loss: 1.0639 - val_accuracy: 0.6744\n",
      "Epoch 7/10\n",
      "200/200 [==============================] - 1s 3ms/step - loss: 1.0216 - accuracy: 0.6816 - val_loss: 1.0045 - val_accuracy: 0.6938\n",
      "Epoch 8/10\n",
      "200/200 [==============================] - 1s 3ms/step - loss: 0.9648 - accuracy: 0.7108 - val_loss: 0.9517 - val_accuracy: 0.7225\n",
      "Epoch 9/10\n",
      "200/200 [==============================] - 1s 3ms/step - loss: 0.9072 - accuracy: 0.7287 - val_loss: 0.9040 - val_accuracy: 0.7387\n",
      "Epoch 10/10\n",
      "200/200 [==============================] - 1s 3ms/step - loss: 0.8608 - accuracy: 0.7467 - val_loss: 0.8619 - val_accuracy: 0.7525\n"
     ]
    }
   ],
   "source": [
    "\n",
    "history = model.fit(\n",
    "train_ds,\n",
    "validation_data=val_ds,\n",
    "    epochs=10\n",
    ")"
   ]
  },
  {
   "cell_type": "markdown",
   "id": "bda1dc41",
   "metadata": {},
   "source": [
    "# Evolute the model"
   ]
  },
  {
   "cell_type": "code",
   "execution_count": 21,
   "id": "9f9a6883",
   "metadata": {},
   "outputs": [
    {
     "name": "stdout",
     "output_type": "stream",
     "text": [
      "250/250 [==============================] - 1s 5ms/step - loss: 0.8337 - accuracy: 0.7754\n",
      "Loss:  0.8336604237556458\n",
      "Accuracy:  0.7753750085830688\n"
     ]
    }
   ],
   "source": [
    "loss, accuracy =model.evaluate(test_ds)\n",
    "print(\"Loss: \", loss)\n",
    "print(\"Accuracy: \",accuracy)"
   ]
  },
  {
   "cell_type": "code",
   "execution_count": 22,
   "id": "4f4f3165",
   "metadata": {},
   "outputs": [
    {
     "data": {
      "text/plain": [
       "dict_keys(['loss', 'accuracy', 'val_loss', 'val_accuracy'])"
      ]
     },
     "execution_count": 22,
     "metadata": {},
     "output_type": "execute_result"
    }
   ],
   "source": [
    "history_dict = history.history\n",
    "history_dict.keys()"
   ]
  },
  {
   "cell_type": "code",
   "execution_count": 23,
   "id": "7b1461c7",
   "metadata": {},
   "outputs": [
    {
     "data": {
      "image/png": "[encoded data removed]",
      "text/plain": [
       "<Figure size 432x288 with 1 Axes>"
      ]
     },
     "metadata": {
      "needs_background": "light"
     },
     "output_type": "display_data"
    }
   ],
   "source": [
    "acc = history_dict['accuracy']\n",
    "val_ac = history_dict['val_accuracy']\n",
    "loss = history_dict['loss']\n",
    "val_loss = history_dict['val_loss']\n",
    "\n",
    "epochs = range(1, len(acc)+1)\n",
    "\n",
    "#'bo' is for blue dot\n",
    "plt.plot(epochs, loss, 'bo', label='Training Loss')\n",
    "#b is for solid blue line\n",
    "\n",
    "plt.plot(epochs, val_loss, 'b', label='Validation Loss')\n",
    "plt.title('Training and Validation Loss')\n",
    "plt.xlabel('Epochs')\n",
    "plt.ylabel('Loss')\n",
    "plt.legend()\n",
    "plt.show()"
   ]
  },
  {
   "cell_type": "code",
   "execution_count": 24,
   "id": "d2475368",
   "metadata": {},
   "outputs": [
    {
     "data": {
      "image/png": "[encoded data removed]",
      "text/plain": [
       "<Figure size 432x288 with 1 Axes>"
      ]
     },
     "metadata": {
      "needs_background": "light"
     },
     "output_type": "display_data"
    }
   ],
   "source": [
    "plt.plot(epochs, acc, 'bo', label='Training acc')\n",
    "plt.plot(epochs, val_ac, 'b', label='Validation acc')\n",
    "plt.title('Training and validation accuracy')\n",
    "plt.xlabel('Epochs')\n",
    "plt.ylabel('Accuracy')\n",
    "plt.legend(loc='lower right')\n",
    "\n",
    "plt.show()"
   ]
  }
 ],
 "metadata": {
  "kernelspec": {
   "display_name": "Python 3 (ipykernel)",
   "language": "python",
   "name": "python3"
  },
  "language_info": {
   "codemirror_mode": {
    "name": "ipython",
    "version": 3
   },
   "file_extension": ".py",
   "mimetype": "text/x-python",
   "name": "python",
   "nbconvert_exporter": "python",
   "pygments_lexer": "ipython3",
   "version": "3.9.12"
  }
 },
 "nbformat": 4,
 "nbformat_minor": 5
}
